{
 "cells": [
  {
   "cell_type": "markdown",
   "metadata": {},
   "source": [
    "Copyright (c) 2023 Graphcore Ltd. All rights reserved."
   ]
  },
  {
   "cell_type": "markdown",
   "metadata": {},
   "source": [
    "# FB15k-237\n",
    "\n",
    "## Triple pre-processing\n",
    "\n",
    "\n",
    "Install dependencies"
   ]
  },
  {
   "cell_type": "code",
   "execution_count": null,
   "metadata": {},
   "outputs": [],
   "source": [
    "!pip install -q wheel\n",
    "!pip install -q git+https://github.com/graphcore-research/bess-kge.git"
   ]
  },
  {
   "cell_type": "code",
   "execution_count": 1,
   "metadata": {},
   "outputs": [],
   "source": [
    "import pickle\n",
    "import zipfile\n",
    "import requests\n",
    "from io import BytesIO\n",
    "from pathlib import Path\n",
    "\n",
    "import numpy as np\n",
    "import pandas as pd\n",
    "import torch\n",
    "from besskge.dataset import KGDataset"
   ]
  },
  {
   "cell_type": "markdown",
   "metadata": {},
   "source": [
    "Download dataset from source"
   ]
  },
  {
   "cell_type": "code",
   "execution_count": 2,
   "metadata": {},
   "outputs": [],
   "source": [
    "data_path = Path(\"../data/fb15k-237/\")\n",
    "data_path.mkdir(parents=True, exist_ok=True)\n",
    "\n",
    "res = requests.get(\n",
    "    url=\"https://download.microsoft.com/download/8/7/0/8700516A-AB3D-4850-B4BB-805C515AECE1/FB15K-237.2.zip\",\n",
    ")\n",
    "with zipfile.ZipFile(BytesIO(res.content)) as zip_f:\n",
    "    zip_f.extractall(path=data_path)"
   ]
  },
  {
   "cell_type": "code",
   "execution_count": 3,
   "metadata": {},
   "outputs": [],
   "source": [
    "column_names = [\"h_label\", \"r_label\", \"t_label\"]\n",
    "train_triples = pd.read_csv(\n",
    "    data_path.joinpath(\"Release/train.txt\"),\n",
    "    header=None,\n",
    "    names=column_names,\n",
    "    sep=\"\\t\",\n",
    ")\n",
    "valid_triples = pd.read_csv(\n",
    "    data_path.joinpath(\"Release/valid.txt\"),\n",
    "    header=None,\n",
    "    names=column_names,\n",
    "    sep=\"\\t\",\n",
    ")\n",
    "test_triples = pd.read_csv(\n",
    "    data_path.joinpath(\"Release/test.txt\"),\n",
    "    header=None,\n",
    "    names=column_names,\n",
    "    sep=\"\\t\",\n",
    ")"
   ]
  },
  {
   "cell_type": "code",
   "execution_count": 4,
   "metadata": {},
   "outputs": [
    {
     "data": {
      "text/html": [
       "<div>\n",
       "<style scoped>\n",
       "    .dataframe tbody tr th:only-of-type {\n",
       "        vertical-align: middle;\n",
       "    }\n",
       "\n",
       "    .dataframe tbody tr th {\n",
       "        vertical-align: top;\n",
       "    }\n",
       "\n",
       "    .dataframe thead th {\n",
       "        text-align: right;\n",
       "    }\n",
       "</style>\n",
       "<table border=\"1\" class=\"dataframe\">\n",
       "  <thead>\n",
       "    <tr style=\"text-align: right;\">\n",
       "      <th></th>\n",
       "      <th>h_label</th>\n",
       "      <th>r_label</th>\n",
       "      <th>t_label</th>\n",
       "    </tr>\n",
       "  </thead>\n",
       "  <tbody>\n",
       "    <tr>\n",
       "      <th>0</th>\n",
       "      <td>/m/027rn</td>\n",
       "      <td>/location/country/form_of_government</td>\n",
       "      <td>/m/06cx9</td>\n",
       "    </tr>\n",
       "    <tr>\n",
       "      <th>1</th>\n",
       "      <td>/m/017dcd</td>\n",
       "      <td>/tv/tv_program/regular_cast./tv/regular_tv_app...</td>\n",
       "      <td>/m/06v8s0</td>\n",
       "    </tr>\n",
       "    <tr>\n",
       "      <th>2</th>\n",
       "      <td>/m/07s9rl0</td>\n",
       "      <td>/media_common/netflix_genre/titles</td>\n",
       "      <td>/m/0170z3</td>\n",
       "    </tr>\n",
       "    <tr>\n",
       "      <th>3</th>\n",
       "      <td>/m/01sl1q</td>\n",
       "      <td>/award/award_winner/awards_won./award/award_ho...</td>\n",
       "      <td>/m/044mz_</td>\n",
       "    </tr>\n",
       "    <tr>\n",
       "      <th>4</th>\n",
       "      <td>/m/0cnk2q</td>\n",
       "      <td>/soccer/football_team/current_roster./sports/s...</td>\n",
       "      <td>/m/02nzb8</td>\n",
       "    </tr>\n",
       "    <tr>\n",
       "      <th>...</th>\n",
       "      <td>...</td>\n",
       "      <td>...</td>\n",
       "      <td>...</td>\n",
       "    </tr>\n",
       "    <tr>\n",
       "      <th>272110</th>\n",
       "      <td>/m/016mhd</td>\n",
       "      <td>/film/film/release_date_s./film/film_regional_...</td>\n",
       "      <td>/m/029j_</td>\n",
       "    </tr>\n",
       "    <tr>\n",
       "      <th>272111</th>\n",
       "      <td>/m/01g888</td>\n",
       "      <td>/music/genre/artists</td>\n",
       "      <td>/m/01vv126</td>\n",
       "    </tr>\n",
       "    <tr>\n",
       "      <th>272112</th>\n",
       "      <td>/m/0djvzd</td>\n",
       "      <td>/soccer/football_player/current_team./sports/s...</td>\n",
       "      <td>/m/02b16p</td>\n",
       "    </tr>\n",
       "    <tr>\n",
       "      <th>272113</th>\n",
       "      <td>/m/0gmblvq</td>\n",
       "      <td>/award/award_winning_work/awards_won./award/aw...</td>\n",
       "      <td>/m/07kjk7c</td>\n",
       "    </tr>\n",
       "    <tr>\n",
       "      <th>272114</th>\n",
       "      <td>/m/020jqv</td>\n",
       "      <td>/award/award_nominee/award_nominations./award/...</td>\n",
       "      <td>/m/09d3b7</td>\n",
       "    </tr>\n",
       "  </tbody>\n",
       "</table>\n",
       "<p>272115 rows × 3 columns</p>\n",
       "</div>"
      ],
      "text/plain": [
       "           h_label                                            r_label  \\\n",
       "0         /m/027rn               /location/country/form_of_government   \n",
       "1        /m/017dcd  /tv/tv_program/regular_cast./tv/regular_tv_app...   \n",
       "2       /m/07s9rl0                 /media_common/netflix_genre/titles   \n",
       "3        /m/01sl1q  /award/award_winner/awards_won./award/award_ho...   \n",
       "4        /m/0cnk2q  /soccer/football_team/current_roster./sports/s...   \n",
       "...            ...                                                ...   \n",
       "272110   /m/016mhd  /film/film/release_date_s./film/film_regional_...   \n",
       "272111   /m/01g888                               /music/genre/artists   \n",
       "272112   /m/0djvzd  /soccer/football_player/current_team./sports/s...   \n",
       "272113  /m/0gmblvq  /award/award_winning_work/awards_won./award/aw...   \n",
       "272114   /m/020jqv  /award/award_nominee/award_nominations./award/...   \n",
       "\n",
       "           t_label  \n",
       "0         /m/06cx9  \n",
       "1        /m/06v8s0  \n",
       "2        /m/0170z3  \n",
       "3        /m/044mz_  \n",
       "4        /m/02nzb8  \n",
       "...            ...  \n",
       "272110    /m/029j_  \n",
       "272111  /m/01vv126  \n",
       "272112   /m/02b16p  \n",
       "272113  /m/07kjk7c  \n",
       "272114   /m/09d3b7  \n",
       "\n",
       "[272115 rows x 3 columns]"
      ]
     },
     "execution_count": 4,
     "metadata": {},
     "output_type": "execute_result"
    }
   ],
   "source": [
    "df_triples = {\"train\": train_triples, \"valid\": valid_triples, \"test\": test_triples}\n",
    "df_triples[\"train\"]"
   ]
  },
  {
   "cell_type": "markdown",
   "metadata": {},
   "source": [
    "We can just use `besskge.dataset.KGDataset.from_dataframe` to preprocess and build the KGDataset."
   ]
  },
  {
   "cell_type": "code",
   "execution_count": 5,
   "metadata": {},
   "outputs": [
    {
     "name": "stdout",
     "output_type": "stream",
     "text": [
      "Number of entities: 14,541\n",
      "\n",
      "Number of relation types: 237\n",
      "\n"
     ]
    }
   ],
   "source": [
    "fb15k_237 = KGDataset.from_dataframe(\n",
    "    df_triples,\n",
    "    head_column=\"h_label\",\n",
    "    relation_column=\"r_label\",\n",
    "    tail_column=\"t_label\",\n",
    ")\n",
    "\n",
    "print(f\"Number of entities: {fb15k_237.n_entity:,}\\n\")\n",
    "print(f\"Number of relation types: {fb15k_237.n_relation_type}\\n\")"
   ]
  },
  {
   "cell_type": "markdown",
   "metadata": {},
   "source": [
    "## Save\n",
    "\n",
    "Save triples and dictionaries."
   ]
  },
  {
   "cell_type": "code",
   "execution_count": 6,
   "metadata": {},
   "outputs": [
    {
     "data": {
      "text/plain": [
       "(310116, 3)"
      ]
     },
     "execution_count": 6,
     "metadata": {},
     "output_type": "execute_result"
    }
   ],
   "source": [
    "# Recover and concatenate all triples\n",
    "\n",
    "all_triples = np.concatenate([trip for trip in fb15k_237.triples.values()], axis=0)\n",
    "all_triples.shape"
   ]
  },
  {
   "cell_type": "code",
   "execution_count": 7,
   "metadata": {},
   "outputs": [
    {
     "data": {
      "text/plain": [
       "('/m/0262x6',\n",
       " '/award/award_category/winners./award/award_honor/award_winner',\n",
       " '/m/05jm7')"
      ]
     },
     "execution_count": 7,
     "metadata": {},
     "output_type": "execute_result"
    }
   ],
   "source": [
    "ent_dict = fb15k_237.entity_dict\n",
    "rel_dict = fb15k_237.relation_dict\n",
    "type_offset = fb15k_237.type_offsets\n",
    "\n",
    "# Sanity check\n",
    "\n",
    "triple_id = 14500\n",
    "\n",
    "ent_dict[all_triples[triple_id, 0]], rel_dict[all_triples[triple_id, 1]], ent_dict[\n",
    "    all_triples[triple_id, 2]\n",
    "]"
   ]
  },
  {
   "cell_type": "code",
   "execution_count": 8,
   "metadata": {},
   "outputs": [
    {
     "data": {
      "text/html": [
       "<div>\n",
       "<style scoped>\n",
       "    .dataframe tbody tr th:only-of-type {\n",
       "        vertical-align: middle;\n",
       "    }\n",
       "\n",
       "    .dataframe tbody tr th {\n",
       "        vertical-align: top;\n",
       "    }\n",
       "\n",
       "    .dataframe thead th {\n",
       "        text-align: right;\n",
       "    }\n",
       "</style>\n",
       "<table border=\"1\" class=\"dataframe\">\n",
       "  <thead>\n",
       "    <tr style=\"text-align: right;\">\n",
       "      <th></th>\n",
       "      <th>h_label</th>\n",
       "      <th>r_label</th>\n",
       "      <th>t_label</th>\n",
       "    </tr>\n",
       "  </thead>\n",
       "  <tbody>\n",
       "    <tr>\n",
       "      <th>14500</th>\n",
       "      <td>/m/0262x6</td>\n",
       "      <td>/award/award_category/winners./award/award_hon...</td>\n",
       "      <td>/m/05jm7</td>\n",
       "    </tr>\n",
       "  </tbody>\n",
       "</table>\n",
       "</div>"
      ],
      "text/plain": [
       "         h_label                                            r_label   t_label\n",
       "14500  /m/0262x6  /award/award_category/winners./award/award_hon...  /m/05jm7"
      ]
     },
     "execution_count": 8,
     "metadata": {},
     "output_type": "execute_result"
    }
   ],
   "source": [
    "part = df_triples[\"train\"][\n",
    "    df_triples[\"train\"][\"h_label\"] == ent_dict[all_triples[triple_id, 0]]\n",
    "]\n",
    "part[part[\"t_label\"] == ent_dict[all_triples[triple_id, 2]]]"
   ]
  },
  {
   "cell_type": "code",
   "execution_count": 9,
   "metadata": {},
   "outputs": [],
   "source": [
    "torch.save(all_triples, data_path.joinpath(\"triples.pt\"))\n",
    "with open(data_path.joinpath(\"entity_dict.pkl\"), \"wb\") as f:\n",
    "    pickle.dump(ent_dict, f)\n",
    "with open(data_path.joinpath(\"relation_dict.pkl\"), \"wb\") as f:\n",
    "    pickle.dump(rel_dict, f)\n",
    "with open(data_path.joinpath(\"type_offset.pkl\"), \"wb\") as f:\n",
    "    pickle.dump(type_offset, f)"
   ]
  }
 ],
 "metadata": {
  "kernelspec": {
   "display_name": "Python 3 (ipykernel)",
   "language": "python",
   "name": "python3"
  },
  "language_info": {
   "codemirror_mode": {
    "name": "ipython",
    "version": 3
   },
   "file_extension": ".py",
   "mimetype": "text/x-python",
   "name": "python",
   "nbconvert_exporter": "python",
   "pygments_lexer": "ipython3",
   "version": "3.8.10"
  },
  "pycharm": {
   "stem_cell": {
    "cell_type": "raw",
    "metadata": {
     "collapsed": false
    },
    "source": []
   }
  }
 },
 "nbformat": 4,
 "nbformat_minor": 4
}
