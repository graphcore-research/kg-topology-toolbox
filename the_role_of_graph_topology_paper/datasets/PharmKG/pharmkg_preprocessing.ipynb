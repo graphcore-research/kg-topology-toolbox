{
 "cells": [
  {
   "cell_type": "markdown",
   "metadata": {},
   "source": [
    "Copyright (c) 2023 Graphcore Ltd. All rights reserved."
   ]
  },
  {
   "cell_type": "markdown",
   "metadata": {},
   "source": [
    "# PharmKG\n",
    "\n",
    "## Triple pre-processing\n",
    "\n",
    "Install dependencies"
   ]
  },
  {
   "cell_type": "code",
   "execution_count": 4,
   "metadata": {},
   "outputs": [],
   "source": [
    "!pip install -q wheel\n",
    "!pip install -q git+https://github.com/graphcore-research/bess-kge.git"
   ]
  },
  {
   "cell_type": "code",
   "execution_count": 5,
   "metadata": {},
   "outputs": [],
   "source": [
    "import pickle\n",
    "import urllib.request\n",
    "import zipfile\n",
    "from pathlib import Path\n",
    "\n",
    "import numpy as np\n",
    "import pandas as pd\n",
    "import torch\n",
    "from besskge.dataset import KGDataset"
   ]
  },
  {
   "cell_type": "markdown",
   "metadata": {},
   "source": [
    "Download dataset from source"
   ]
  },
  {
   "cell_type": "code",
   "execution_count": 6,
   "metadata": {},
   "outputs": [],
   "source": [
    "data_path = Path(\"../data/pharmkg\")\n",
    "data_path.mkdir(parents=True, exist_ok=True)\n",
    "filename = data_path.joinpath(\"raw_PharmKG-180k.zip\")\n",
    "\n",
    "urllib.request.urlretrieve(\n",
    "    \"https://zenodo.org/record/4077338/files/raw_PharmKG-180k.zip\",\n",
    "    filename=filename,\n",
    ")\n",
    "with zipfile.ZipFile(filename, \"r\") as zip_ref:\n",
    "    zip_ref.extractall(data_path)"
   ]
  },
  {
   "cell_type": "code",
   "execution_count": 7,
   "metadata": {},
   "outputs": [
    {
     "data": {
      "text/html": [
       "<div>\n",
       "<style scoped>\n",
       "    .dataframe tbody tr th:only-of-type {\n",
       "        vertical-align: middle;\n",
       "    }\n",
       "\n",
       "    .dataframe tbody tr th {\n",
       "        vertical-align: top;\n",
       "    }\n",
       "\n",
       "    .dataframe thead th {\n",
       "        text-align: right;\n",
       "    }\n",
       "</style>\n",
       "<table border=\"1\" class=\"dataframe\">\n",
       "  <thead>\n",
       "    <tr style=\"text-align: right;\">\n",
       "      <th></th>\n",
       "      <th>Entity1_name</th>\n",
       "      <th>Entity1_type</th>\n",
       "      <th>relationship_type</th>\n",
       "      <th>Entity2_name</th>\n",
       "      <th>Entity2_type</th>\n",
       "      <th>PubMed_ID</th>\n",
       "      <th>Sentence_tokenized</th>\n",
       "    </tr>\n",
       "  </thead>\n",
       "  <tbody>\n",
       "    <tr>\n",
       "      <th>0</th>\n",
       "      <td>htr1a</td>\n",
       "      <td>Gene</td>\n",
       "      <td>Gene-Chemical</td>\n",
       "      <td>sdz mar 327</td>\n",
       "      <td>Chemical</td>\n",
       "      <td>NaN</td>\n",
       "      <td>NaN</td>\n",
       "    </tr>\n",
       "    <tr>\n",
       "      <th>1</th>\n",
       "      <td>cyp21a2</td>\n",
       "      <td>gene</td>\n",
       "      <td>H</td>\n",
       "      <td>star</td>\n",
       "      <td>chemical</td>\n",
       "      <td>26515592.0, 28800627.0, 16835396.0, 22396488.0...</td>\n",
       "      <td>'Additionally , in NCI-H295 cells , PNU-74654 ...</td>\n",
       "    </tr>\n",
       "    <tr>\n",
       "      <th>2</th>\n",
       "      <td>interleukin 1 receptor antagonist protein</td>\n",
       "      <td>gene</td>\n",
       "      <td>L</td>\n",
       "      <td>shock</td>\n",
       "      <td>disease</td>\n",
       "      <td>NaN</td>\n",
       "      <td>NaN</td>\n",
       "    </tr>\n",
       "    <tr>\n",
       "      <th>3</th>\n",
       "      <td>bps</td>\n",
       "      <td>chemical</td>\n",
       "      <td>T</td>\n",
       "      <td>hypertension</td>\n",
       "      <td>disease</td>\n",
       "      <td>9304231.0, 17616452.0, 17616452.0, 24283596.0,...</td>\n",
       "      <td>'According to BP load -LRB- the percentage of ...</td>\n",
       "    </tr>\n",
       "    <tr>\n",
       "      <th>4</th>\n",
       "      <td>vitamin k</td>\n",
       "      <td>chemical</td>\n",
       "      <td>T</td>\n",
       "      <td>cystic fibrosis</td>\n",
       "      <td>disease</td>\n",
       "      <td>nan, nan</td>\n",
       "      <td>nan, nan</td>\n",
       "    </tr>\n",
       "    <tr>\n",
       "      <th>...</th>\n",
       "      <td>...</td>\n",
       "      <td>...</td>\n",
       "      <td>...</td>\n",
       "      <td>...</td>\n",
       "      <td>...</td>\n",
       "      <td>...</td>\n",
       "      <td>...</td>\n",
       "    </tr>\n",
       "    <tr>\n",
       "      <th>1093231</th>\n",
       "      <td>amino acid</td>\n",
       "      <td>chemical</td>\n",
       "      <td>O</td>\n",
       "      <td>mstn</td>\n",
       "      <td>gene</td>\n",
       "      <td>28322766.0, 17541833.0, 28355117.0, 17617213.0...</td>\n",
       "      <td>'FmMstn is most similar to the Mstn of Litopen...</td>\n",
       "    </tr>\n",
       "    <tr>\n",
       "      <th>1093232</th>\n",
       "      <td>fe</td>\n",
       "      <td>chemical</td>\n",
       "      <td>T</td>\n",
       "      <td>lupus erythematosus systemic</td>\n",
       "      <td>disease</td>\n",
       "      <td>NaN</td>\n",
       "      <td>NaN</td>\n",
       "    </tr>\n",
       "    <tr>\n",
       "      <th>1093233</th>\n",
       "      <td>interleukin 13 receptor subunit alpha 2</td>\n",
       "      <td>gene</td>\n",
       "      <td>L</td>\n",
       "      <td>neoplasms</td>\n",
       "      <td>disease</td>\n",
       "      <td>nan, nan, nan, nan, nan</td>\n",
       "      <td>nan, nan, nan, nan, nan</td>\n",
       "    </tr>\n",
       "    <tr>\n",
       "      <th>1093234</th>\n",
       "      <td>draxin</td>\n",
       "      <td>gene</td>\n",
       "      <td>Rg</td>\n",
       "      <td>map1b</td>\n",
       "      <td>gene</td>\n",
       "      <td>25775433.0, 25775433.0, 25775433.0</td>\n",
       "      <td>'This study , for the first time elucidates mo...</td>\n",
       "    </tr>\n",
       "    <tr>\n",
       "      <th>1093235</th>\n",
       "      <td>pap</td>\n",
       "      <td>chemical</td>\n",
       "      <td>Md</td>\n",
       "      <td>prostatic neoplasms</td>\n",
       "      <td>disease</td>\n",
       "      <td>NaN</td>\n",
       "      <td>NaN</td>\n",
       "    </tr>\n",
       "  </tbody>\n",
       "</table>\n",
       "<p>1093236 rows × 7 columns</p>\n",
       "</div>"
      ],
      "text/plain": [
       "                                      Entity1_name Entity1_type  \\\n",
       "0                                            htr1a         Gene   \n",
       "1                                          cyp21a2         gene   \n",
       "2        interleukin 1 receptor antagonist protein         gene   \n",
       "3                                              bps     chemical   \n",
       "4                                        vitamin k     chemical   \n",
       "...                                            ...          ...   \n",
       "1093231                                 amino acid     chemical   \n",
       "1093232                                         fe     chemical   \n",
       "1093233    interleukin 13 receptor subunit alpha 2         gene   \n",
       "1093234                                     draxin         gene   \n",
       "1093235                                        pap     chemical   \n",
       "\n",
       "        relationship_type                  Entity2_name Entity2_type  \\\n",
       "0           Gene-Chemical                   sdz mar 327     Chemical   \n",
       "1                       H                          star     chemical   \n",
       "2                       L                         shock      disease   \n",
       "3                       T                  hypertension      disease   \n",
       "4                       T               cystic fibrosis      disease   \n",
       "...                   ...                           ...          ...   \n",
       "1093231                 O                          mstn         gene   \n",
       "1093232                 T  lupus erythematosus systemic      disease   \n",
       "1093233                 L                     neoplasms      disease   \n",
       "1093234                Rg                         map1b         gene   \n",
       "1093235                Md           prostatic neoplasms      disease   \n",
       "\n",
       "                                                 PubMed_ID  \\\n",
       "0                                                      NaN   \n",
       "1        26515592.0, 28800627.0, 16835396.0, 22396488.0...   \n",
       "2                                                      NaN   \n",
       "3        9304231.0, 17616452.0, 17616452.0, 24283596.0,...   \n",
       "4                                                 nan, nan   \n",
       "...                                                    ...   \n",
       "1093231  28322766.0, 17541833.0, 28355117.0, 17617213.0...   \n",
       "1093232                                                NaN   \n",
       "1093233                            nan, nan, nan, nan, nan   \n",
       "1093234                 25775433.0, 25775433.0, 25775433.0   \n",
       "1093235                                                NaN   \n",
       "\n",
       "                                        Sentence_tokenized  \n",
       "0                                                      NaN  \n",
       "1        'Additionally , in NCI-H295 cells , PNU-74654 ...  \n",
       "2                                                      NaN  \n",
       "3        'According to BP load -LRB- the percentage of ...  \n",
       "4                                                 nan, nan  \n",
       "...                                                    ...  \n",
       "1093231  'FmMstn is most similar to the Mstn of Litopen...  \n",
       "1093232                                                NaN  \n",
       "1093233                            nan, nan, nan, nan, nan  \n",
       "1093234  'This study , for the first time elucidates mo...  \n",
       "1093235                                                NaN  \n",
       "\n",
       "[1093236 rows x 7 columns]"
      ]
     },
     "execution_count": 7,
     "metadata": {},
     "output_type": "execute_result"
    }
   ],
   "source": [
    "df_triples = pd.read_csv(data_path.joinpath(\"raw_PharmKG-180k.csv\"))\n",
    "df_triples"
   ]
  },
  {
   "cell_type": "markdown",
   "metadata": {},
   "source": [
    "Capitalization in entity types appears inconsistent (\"chemical\" and \"Chemical\" are to be treated as the same type)."
   ]
  },
  {
   "cell_type": "code",
   "execution_count": 8,
   "metadata": {},
   "outputs": [
    {
     "data": {
      "text/plain": [
       "array(['Gene', 'gene', 'chemical', 'Chemical', 'disease', 'Disease'],\n",
       "      dtype=object)"
      ]
     },
     "execution_count": 8,
     "metadata": {},
     "output_type": "execute_result"
    }
   ],
   "source": [
    "df_triples[\"Entity1_type\"].unique()"
   ]
  },
  {
   "cell_type": "code",
   "execution_count": 9,
   "metadata": {},
   "outputs": [
    {
     "data": {
      "text/html": [
       "<div>\n",
       "<style scoped>\n",
       "    .dataframe tbody tr th:only-of-type {\n",
       "        vertical-align: middle;\n",
       "    }\n",
       "\n",
       "    .dataframe tbody tr th {\n",
       "        vertical-align: top;\n",
       "    }\n",
       "\n",
       "    .dataframe thead th {\n",
       "        text-align: right;\n",
       "    }\n",
       "</style>\n",
       "<table border=\"1\" class=\"dataframe\">\n",
       "  <thead>\n",
       "    <tr style=\"text-align: right;\">\n",
       "      <th></th>\n",
       "      <th>ent_name</th>\n",
       "      <th>ent_type</th>\n",
       "    </tr>\n",
       "  </thead>\n",
       "  <tbody>\n",
       "    <tr>\n",
       "      <th>0</th>\n",
       "      <td>htr1a</td>\n",
       "      <td>Gene</td>\n",
       "    </tr>\n",
       "    <tr>\n",
       "      <th>1</th>\n",
       "      <td>cyp21a2</td>\n",
       "      <td>gene</td>\n",
       "    </tr>\n",
       "    <tr>\n",
       "      <th>2</th>\n",
       "      <td>interleukin 1 receptor antagonist protein</td>\n",
       "      <td>gene</td>\n",
       "    </tr>\n",
       "    <tr>\n",
       "      <th>3</th>\n",
       "      <td>bps</td>\n",
       "      <td>chemical</td>\n",
       "    </tr>\n",
       "    <tr>\n",
       "      <th>4</th>\n",
       "      <td>vitamin k</td>\n",
       "      <td>chemical</td>\n",
       "    </tr>\n",
       "    <tr>\n",
       "      <th>...</th>\n",
       "      <td>...</td>\n",
       "      <td>...</td>\n",
       "    </tr>\n",
       "    <tr>\n",
       "      <th>2186467</th>\n",
       "      <td>mstn</td>\n",
       "      <td>gene</td>\n",
       "    </tr>\n",
       "    <tr>\n",
       "      <th>2186468</th>\n",
       "      <td>lupus erythematosus systemic</td>\n",
       "      <td>disease</td>\n",
       "    </tr>\n",
       "    <tr>\n",
       "      <th>2186469</th>\n",
       "      <td>neoplasms</td>\n",
       "      <td>disease</td>\n",
       "    </tr>\n",
       "    <tr>\n",
       "      <th>2186470</th>\n",
       "      <td>map1b</td>\n",
       "      <td>gene</td>\n",
       "    </tr>\n",
       "    <tr>\n",
       "      <th>2186471</th>\n",
       "      <td>prostatic neoplasms</td>\n",
       "      <td>disease</td>\n",
       "    </tr>\n",
       "  </tbody>\n",
       "</table>\n",
       "<p>2186472 rows × 2 columns</p>\n",
       "</div>"
      ],
      "text/plain": [
       "                                          ent_name  ent_type\n",
       "0                                            htr1a      Gene\n",
       "1                                          cyp21a2      gene\n",
       "2        interleukin 1 receptor antagonist protein      gene\n",
       "3                                              bps  chemical\n",
       "4                                        vitamin k  chemical\n",
       "...                                            ...       ...\n",
       "2186467                                       mstn      gene\n",
       "2186468               lupus erythematosus systemic   disease\n",
       "2186469                                  neoplasms   disease\n",
       "2186470                                      map1b      gene\n",
       "2186471                        prostatic neoplasms   disease\n",
       "\n",
       "[2186472 rows x 2 columns]"
      ]
     },
     "execution_count": 9,
     "metadata": {},
     "output_type": "execute_result"
    }
   ],
   "source": [
    "part1 = df_triples[[\"Entity1_name\", \"Entity1_type\"]]\n",
    "part2 = df_triples[[\"Entity2_name\", \"Entity2_type\"]]\n",
    "new_cols = [\"ent_name\", \"ent_type\"]\n",
    "part1.columns = new_cols\n",
    "part2.columns = new_cols\n",
    "# Aggregated head and tail entities\n",
    "ent_all = pd.concat([part1, part2], ignore_index=True)\n",
    "ent_all"
   ]
  },
  {
   "cell_type": "code",
   "execution_count": 10,
   "metadata": {},
   "outputs": [
    {
     "data": {
      "text/plain": [
       "ent_name\n",
       "+                                                    Chemical\n",
       "-                                                    Chemical\n",
       "0                                                        Gene\n",
       "0 dimethyl 0 4 nitrophenyl phosphorothioate          Chemical\n",
       "1 0 alkyl 2 acetyl sn glycero 3 phosphorylcholine    Chemical\n",
       "                                                       ...   \n",
       "zyz 803                                              Chemical\n",
       "zyz451                                               Chemical\n",
       "zz                                                   Chemical\n",
       "zz 122                                               Chemical\n",
       "zz1 61c                                              Chemical\n",
       "Name: ent_type, Length: 188296, dtype: object"
      ]
     },
     "execution_count": 10,
     "metadata": {},
     "output_type": "execute_result"
    }
   ],
   "source": [
    "# Discard duplicate entities, randomly taking the entity type\n",
    "uniq_ent = (ent_all.groupby(\"ent_name\")[[\"ent_name\", \"ent_type\"]].first())[\"ent_type\"]\n",
    "\n",
    "# Uniform entity type capitalization\n",
    "uniq_ent = uniq_ent.str.capitalize()\n",
    "\n",
    "uniq_ent"
   ]
  },
  {
   "cell_type": "code",
   "execution_count": 11,
   "metadata": {},
   "outputs": [
    {
     "data": {
      "text/plain": [
       "array(['Chemical', 'Disease', 'Gene'], dtype=object)"
      ]
     },
     "execution_count": 11,
     "metadata": {},
     "output_type": "execute_result"
    }
   ],
   "source": [
    "np.unique(uniq_ent.values)"
   ]
  },
  {
   "cell_type": "markdown",
   "metadata": {},
   "source": [
    "No apparent capitalization problems for relation type labels."
   ]
  },
  {
   "cell_type": "code",
   "execution_count": 12,
   "metadata": {},
   "outputs": [
    {
     "data": {
      "text/plain": [
       "array(['Gene-Chemical', 'H', 'L', 'T', 'B', 'Q', 'J', 'E', 'Z', 'N', 'C',\n",
       "       'V+', 'Sa', 'Gene-Disease', 'K', 'Rg', 'O', 'Pr', 'E+', 'X', 'I',\n",
       "       'Md', 'Pa', 'U', 'Te', 'Chemical-Disease', 'Ud', 'D', 'Y', 'E-',\n",
       "       'G', 'A-', 'Mp', 'A+', 'W', 'Gene-Gene', 'Disease-Disease',\n",
       "       'Chemical-Chemical', 'T.ind'], dtype=object)"
      ]
     },
     "execution_count": 12,
     "metadata": {},
     "output_type": "execute_result"
    }
   ],
   "source": [
    "df_triples[\"relationship_type\"].unique()"
   ]
  },
  {
   "cell_type": "markdown",
   "metadata": {},
   "source": [
    "We can just use `besskge.dataset.KGDataset.from_dataframe` to preprocess and build the KGDataset."
   ]
  },
  {
   "cell_type": "code",
   "execution_count": 13,
   "metadata": {},
   "outputs": [
    {
     "name": "stdout",
     "output_type": "stream",
     "text": [
      "Number of entities: 188,296\n",
      "\n",
      "Number of relation types: 39\n",
      "\n"
     ]
    }
   ],
   "source": [
    "pharmkg = KGDataset.from_dataframe(\n",
    "    df_triples,\n",
    "    head_column=\"Entity1_name\",\n",
    "    relation_column=\"relationship_type\",\n",
    "    tail_column=\"Entity2_name\",\n",
    "    entity_types=uniq_ent,\n",
    ")\n",
    "\n",
    "print(f\"Number of entities: {pharmkg.n_entity:,}\\n\")\n",
    "print(f\"Number of relation types: {pharmkg.n_relation_type}\\n\")"
   ]
  },
  {
   "cell_type": "markdown",
   "metadata": {},
   "source": [
    "## Save\n",
    "\n",
    "Save triples and dictionaries."
   ]
  },
  {
   "cell_type": "code",
   "execution_count": 20,
   "metadata": {},
   "outputs": [
    {
     "data": {
      "text/plain": [
       "(1093236, 3)"
      ]
     },
     "execution_count": 20,
     "metadata": {},
     "output_type": "execute_result"
    }
   ],
   "source": [
    "# Recover and concatenate all triples\n",
    "\n",
    "all_triples = np.concatenate([trip for trip in pharmkg.triples.values()], axis=0)\n",
    "all_triples.shape"
   ]
  },
  {
   "cell_type": "code",
   "execution_count": 23,
   "metadata": {},
   "outputs": [
    {
     "data": {
      "text/plain": [
       "('chloramphenicol acetyl', 'E', 'beta glucuronidase')"
      ]
     },
     "execution_count": 23,
     "metadata": {},
     "output_type": "execute_result"
    }
   ],
   "source": [
    "ent_dict = pharmkg.entity_dict\n",
    "rel_dict = pharmkg.relation_dict\n",
    "type_offset = pharmkg.type_offsets\n",
    "\n",
    "# Sanity check\n",
    "\n",
    "triple_id = 14500\n",
    "\n",
    "ent_dict[all_triples[triple_id, 0]], rel_dict[all_triples[triple_id, 1]], ent_dict[\n",
    "    all_triples[triple_id, 2]\n",
    "]"
   ]
  },
  {
   "cell_type": "code",
   "execution_count": 25,
   "metadata": {},
   "outputs": [
    {
     "data": {
      "text/html": [
       "<div>\n",
       "<style scoped>\n",
       "    .dataframe tbody tr th:only-of-type {\n",
       "        vertical-align: middle;\n",
       "    }\n",
       "\n",
       "    .dataframe tbody tr th {\n",
       "        vertical-align: top;\n",
       "    }\n",
       "\n",
       "    .dataframe thead th {\n",
       "        text-align: right;\n",
       "    }\n",
       "</style>\n",
       "<table border=\"1\" class=\"dataframe\">\n",
       "  <thead>\n",
       "    <tr style=\"text-align: right;\">\n",
       "      <th></th>\n",
       "      <th>Entity1_name</th>\n",
       "      <th>Entity1_type</th>\n",
       "      <th>relationship_type</th>\n",
       "      <th>Entity2_name</th>\n",
       "      <th>Entity2_type</th>\n",
       "      <th>PubMed_ID</th>\n",
       "      <th>Sentence_tokenized</th>\n",
       "    </tr>\n",
       "  </thead>\n",
       "  <tbody>\n",
       "    <tr>\n",
       "      <th>68559</th>\n",
       "      <td>chloramphenicol acetyl</td>\n",
       "      <td>chemical</td>\n",
       "      <td>O</td>\n",
       "      <td>cyp1a1</td>\n",
       "      <td>gene</td>\n",
       "      <td>11226373.0, 9890552.0, 8562336.0, 9890552.0, 8...</td>\n",
       "      <td>'In the present study , we investigated the tr...</td>\n",
       "    </tr>\n",
       "    <tr>\n",
       "      <th>109687</th>\n",
       "      <td>chloramphenicol acetyl</td>\n",
       "      <td>chemical</td>\n",
       "      <td>E</td>\n",
       "      <td>beta glucuronidase</td>\n",
       "      <td>gene</td>\n",
       "      <td>8112307.0</td>\n",
       "      <td>'We describe the construction of a plasmid -LR...</td>\n",
       "    </tr>\n",
       "    <tr>\n",
       "      <th>179039</th>\n",
       "      <td>chloramphenicol acetyl</td>\n",
       "      <td>chemical</td>\n",
       "      <td>E</td>\n",
       "      <td>tgf alpha</td>\n",
       "      <td>gene</td>\n",
       "      <td>8752656.0, 1501890.0, 8752656.0</td>\n",
       "      <td>'A 238-bp fragment and a 123-bp fragment , bot...</td>\n",
       "    </tr>\n",
       "    <tr>\n",
       "      <th>438370</th>\n",
       "      <td>chloramphenicol acetyl</td>\n",
       "      <td>chemical</td>\n",
       "      <td>B</td>\n",
       "      <td>upa</td>\n",
       "      <td>chemical</td>\n",
       "      <td>1905804.0, 11115541.0, 3205721.0, 11115541.0</td>\n",
       "      <td>'A synthetic copy of this element confers supe...</td>\n",
       "    </tr>\n",
       "    <tr>\n",
       "      <th>452295</th>\n",
       "      <td>chloramphenicol acetyl</td>\n",
       "      <td>chemical</td>\n",
       "      <td>Z</td>\n",
       "      <td>cat</td>\n",
       "      <td>chemical</td>\n",
       "      <td>2102836.0, 3359914.0, 9886828.0, 18601211.0, 2...</td>\n",
       "      <td>'A monoclonal antibody to chloramphenicol_acet...</td>\n",
       "    </tr>\n",
       "    <tr>\n",
       "      <th>510064</th>\n",
       "      <td>chloramphenicol acetyl</td>\n",
       "      <td>chemical</td>\n",
       "      <td>Sa</td>\n",
       "      <td>roberts syndrome</td>\n",
       "      <td>disease</td>\n",
       "      <td>NaN</td>\n",
       "      <td>NaN</td>\n",
       "    </tr>\n",
       "    <tr>\n",
       "      <th>540366</th>\n",
       "      <td>chloramphenicol acetyl</td>\n",
       "      <td>chemical</td>\n",
       "      <td>C</td>\n",
       "      <td>carcinoma hepatocellular</td>\n",
       "      <td>disease</td>\n",
       "      <td>NaN</td>\n",
       "      <td>NaN</td>\n",
       "    </tr>\n",
       "    <tr>\n",
       "      <th>593353</th>\n",
       "      <td>chloramphenicol acetyl</td>\n",
       "      <td>chemical</td>\n",
       "      <td>E</td>\n",
       "      <td>endothelin 1</td>\n",
       "      <td>chemical</td>\n",
       "      <td>NaN</td>\n",
       "      <td>NaN</td>\n",
       "    </tr>\n",
       "    <tr>\n",
       "      <th>879806</th>\n",
       "      <td>chloramphenicol acetyl</td>\n",
       "      <td>chemical</td>\n",
       "      <td>T</td>\n",
       "      <td>cat</td>\n",
       "      <td>chemical</td>\n",
       "      <td>18601211.0, 2102836.0, 8972775.0, 7511098.0, 9...</td>\n",
       "      <td>'An expression system has been designed in whi...</td>\n",
       "    </tr>\n",
       "    <tr>\n",
       "      <th>919074</th>\n",
       "      <td>chloramphenicol acetyl</td>\n",
       "      <td>chemical</td>\n",
       "      <td>O</td>\n",
       "      <td>vegfa</td>\n",
       "      <td>gene</td>\n",
       "      <td>NaN</td>\n",
       "      <td>NaN</td>\n",
       "    </tr>\n",
       "    <tr>\n",
       "      <th>946741</th>\n",
       "      <td>chloramphenicol acetyl</td>\n",
       "      <td>chemical</td>\n",
       "      <td>O</td>\n",
       "      <td>tnf</td>\n",
       "      <td>gene</td>\n",
       "      <td>7860994.0, 1508226.0, 1315830.0, 1296801.0, 16...</td>\n",
       "      <td>\"To examine the effects of different wavelengt...</td>\n",
       "    </tr>\n",
       "  </tbody>\n",
       "</table>\n",
       "</div>"
      ],
      "text/plain": [
       "                  Entity1_name Entity1_type relationship_type  \\\n",
       "68559   chloramphenicol acetyl     chemical                 O   \n",
       "109687  chloramphenicol acetyl     chemical                 E   \n",
       "179039  chloramphenicol acetyl     chemical                 E   \n",
       "438370  chloramphenicol acetyl     chemical                 B   \n",
       "452295  chloramphenicol acetyl     chemical                 Z   \n",
       "510064  chloramphenicol acetyl     chemical                Sa   \n",
       "540366  chloramphenicol acetyl     chemical                 C   \n",
       "593353  chloramphenicol acetyl     chemical                 E   \n",
       "879806  chloramphenicol acetyl     chemical                 T   \n",
       "919074  chloramphenicol acetyl     chemical                 O   \n",
       "946741  chloramphenicol acetyl     chemical                 O   \n",
       "\n",
       "                    Entity2_name Entity2_type  \\\n",
       "68559                     cyp1a1         gene   \n",
       "109687        beta glucuronidase         gene   \n",
       "179039                 tgf alpha         gene   \n",
       "438370                       upa     chemical   \n",
       "452295                       cat     chemical   \n",
       "510064          roberts syndrome      disease   \n",
       "540366  carcinoma hepatocellular      disease   \n",
       "593353              endothelin 1     chemical   \n",
       "879806                       cat     chemical   \n",
       "919074                     vegfa         gene   \n",
       "946741                       tnf         gene   \n",
       "\n",
       "                                                PubMed_ID  \\\n",
       "68559   11226373.0, 9890552.0, 8562336.0, 9890552.0, 8...   \n",
       "109687                                          8112307.0   \n",
       "179039                    8752656.0, 1501890.0, 8752656.0   \n",
       "438370       1905804.0, 11115541.0, 3205721.0, 11115541.0   \n",
       "452295  2102836.0, 3359914.0, 9886828.0, 18601211.0, 2...   \n",
       "510064                                                NaN   \n",
       "540366                                                NaN   \n",
       "593353                                                NaN   \n",
       "879806  18601211.0, 2102836.0, 8972775.0, 7511098.0, 9...   \n",
       "919074                                                NaN   \n",
       "946741  7860994.0, 1508226.0, 1315830.0, 1296801.0, 16...   \n",
       "\n",
       "                                       Sentence_tokenized  \n",
       "68559   'In the present study , we investigated the tr...  \n",
       "109687  'We describe the construction of a plasmid -LR...  \n",
       "179039  'A 238-bp fragment and a 123-bp fragment , bot...  \n",
       "438370  'A synthetic copy of this element confers supe...  \n",
       "452295  'A monoclonal antibody to chloramphenicol_acet...  \n",
       "510064                                                NaN  \n",
       "540366                                                NaN  \n",
       "593353                                                NaN  \n",
       "879806  'An expression system has been designed in whi...  \n",
       "919074                                                NaN  \n",
       "946741  \"To examine the effects of different wavelengt...  "
      ]
     },
     "execution_count": 25,
     "metadata": {},
     "output_type": "execute_result"
    }
   ],
   "source": [
    "df_triples[df_triples[\"Entity1_name\"] == ent_dict[all_triples[triple_id, 0]]]"
   ]
  },
  {
   "cell_type": "code",
   "execution_count": 27,
   "metadata": {},
   "outputs": [],
   "source": [
    "torch.save(all_triples, data_path.joinpath(\"triples.pt\"))\n",
    "with open(data_path.joinpath(\"entity_dict.pkl\"), \"wb\") as f:\n",
    "    pickle.dump(ent_dict, f)\n",
    "with open(data_path.joinpath(\"relation_dict.pkl\"), \"wb\") as f:\n",
    "    pickle.dump(rel_dict, f)\n",
    "with open(data_path.joinpath(\"type_offset.pkl\"), \"wb\") as f:\n",
    "    pickle.dump(type_offset, f)"
   ]
  }
 ],
 "metadata": {
  "kernelspec": {
   "display_name": "Python 3 (ipykernel)",
   "language": "python",
   "name": "python3"
  },
  "language_info": {
   "codemirror_mode": {
    "name": "ipython",
    "version": 3
   },
   "file_extension": ".py",
   "mimetype": "text/x-python",
   "name": "python",
   "nbconvert_exporter": "python",
   "pygments_lexer": "ipython3",
   "version": "3.8.10"
  },
  "pycharm": {
   "stem_cell": {
    "cell_type": "raw",
    "metadata": {
     "collapsed": false
    },
    "source": []
   }
  }
 },
 "nbformat": 4,
 "nbformat_minor": 4
}
