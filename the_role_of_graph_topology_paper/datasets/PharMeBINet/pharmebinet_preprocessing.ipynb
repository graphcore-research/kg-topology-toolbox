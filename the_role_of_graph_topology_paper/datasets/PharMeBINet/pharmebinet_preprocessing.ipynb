{
 "cells": [
  {
   "cell_type": "markdown",
   "metadata": {},
   "source": [
    "Copyright (c) 2023 Graphcore Ltd. All rights reserved."
   ]
  },
  {
   "cell_type": "markdown",
   "metadata": {},
   "source": [
    "# PharMeBINet\n",
    "\n",
    "## Triple pre-processing\n",
    "\n",
    "Download dataset from source"
   ]
  },
  {
   "cell_type": "code",
   "execution_count": 1,
   "metadata": {},
   "outputs": [],
   "source": [
    "import pickle\n",
    "import tarfile\n",
    "import urllib.request\n",
    "from pathlib import Path\n",
    "\n",
    "import numpy as np\n",
    "import pandas as pd\n",
    "import torch"
   ]
  },
  {
   "cell_type": "code",
   "execution_count": 2,
   "metadata": {},
   "outputs": [],
   "source": [
    "data_path = Path(\"../data/pharmebinet/\")\n",
    "data_path.mkdir(parents=True, exist_ok=True)\n",
    "filename = data_path.joinpath(\"edges.tar.gz\")\n",
    "\n",
    "urllib.request.urlretrieve(\n",
    "    \"https://zenodo.org/record/7011027/files/pharmebinet_tsv_2022_08_19_v2.tar.gz\",\n",
    "    filename=filename,\n",
    ")\n",
    "with tarfile.open(filename, \"r:gz\") as tarf:\n",
    "    tarf.extractall(path=data_path)"
   ]
  },
  {
   "cell_type": "code",
   "execution_count": 3,
   "metadata": {},
   "outputs": [
    {
     "data": {
      "text/html": [
       "<div>\n",
       "<style scoped>\n",
       "    .dataframe tbody tr th:only-of-type {\n",
       "        vertical-align: middle;\n",
       "    }\n",
       "\n",
       "    .dataframe tbody tr th {\n",
       "        vertical-align: top;\n",
       "    }\n",
       "\n",
       "    .dataframe thead th {\n",
       "        text-align: right;\n",
       "    }\n",
       "</style>\n",
       "<table border=\"1\" class=\"dataframe\">\n",
       "  <thead>\n",
       "    <tr style=\"text-align: right;\">\n",
       "      <th></th>\n",
       "      <th>relationship_id</th>\n",
       "      <th>type</th>\n",
       "      <th>start_id</th>\n",
       "      <th>end_id</th>\n",
       "      <th>properties</th>\n",
       "      <th>resource</th>\n",
       "      <th>license</th>\n",
       "      <th>source</th>\n",
       "      <th>url</th>\n",
       "    </tr>\n",
       "  </thead>\n",
       "  <tbody>\n",
       "    <tr>\n",
       "      <th>0</th>\n",
       "      <td>0</td>\n",
       "      <td>INVOLVED_IN_PiiBP</td>\n",
       "      <td>192000</td>\n",
       "      <td>304346</td>\n",
       "      <td>{\"date\": [\"20210905\"], \"with_from\": [\"PANTHER:...</td>\n",
       "      <td>['GO']</td>\n",
       "      <td>CC BY 4.0</td>\n",
       "      <td>Gene Ontology</td>\n",
       "      <td>http://purl.obolibrary.org/obo/GO:0034613</td>\n",
       "    </tr>\n",
       "    <tr>\n",
       "      <th>1</th>\n",
       "      <td>1</td>\n",
       "      <td>INVOLVED_IN_PiiBP</td>\n",
       "      <td>192000</td>\n",
       "      <td>297825</td>\n",
       "      <td>{\"date\": [\"20210623\"], \"with_from\": [\"PANTHER:...</td>\n",
       "      <td>['GO']</td>\n",
       "      <td>CC BY 4.0</td>\n",
       "      <td>Gene Ontology</td>\n",
       "      <td>http://purl.obolibrary.org/obo/GO:0007165</td>\n",
       "    </tr>\n",
       "    <tr>\n",
       "      <th>2</th>\n",
       "      <td>2</td>\n",
       "      <td>INVOLVED_IN_PiiBP</td>\n",
       "      <td>192000</td>\n",
       "      <td>297959</td>\n",
       "      <td>{\"date\": [\"20210623\"], \"with_from\": [\"PANTHER:...</td>\n",
       "      <td>['GO']</td>\n",
       "      <td>CC BY 4.0</td>\n",
       "      <td>Gene Ontology</td>\n",
       "      <td>http://purl.obolibrary.org/obo/GO:0007346</td>\n",
       "    </tr>\n",
       "    <tr>\n",
       "      <th>3</th>\n",
       "      <td>3</td>\n",
       "      <td>INVOLVED_IN_PiiBP</td>\n",
       "      <td>192000</td>\n",
       "      <td>317503</td>\n",
       "      <td>{\"date\": [\"20200226\"], \"go\": \"yes\", \"pubMed_id...</td>\n",
       "      <td>['GO']</td>\n",
       "      <td>CC BY 4.0</td>\n",
       "      <td>Gene Ontology</td>\n",
       "      <td>http://purl.obolibrary.org/obo/GO:1901020</td>\n",
       "    </tr>\n",
       "    <tr>\n",
       "      <th>4</th>\n",
       "      <td>4</td>\n",
       "      <td>INVOLVED_IN_PiiBP</td>\n",
       "      <td>192000</td>\n",
       "      <td>295456</td>\n",
       "      <td>{\"date\": [\"20211127\"], \"with_from\": [\"UniProtK...</td>\n",
       "      <td>['GO']</td>\n",
       "      <td>CC BY 4.0</td>\n",
       "      <td>Gene Ontology</td>\n",
       "      <td>http://purl.obolibrary.org/obo/GO:0001764</td>\n",
       "    </tr>\n",
       "    <tr>\n",
       "      <th>...</th>\n",
       "      <td>...</td>\n",
       "      <td>...</td>\n",
       "      <td>...</td>\n",
       "      <td>...</td>\n",
       "      <td>...</td>\n",
       "      <td>...</td>\n",
       "      <td>...</td>\n",
       "      <td>...</td>\n",
       "      <td>...</td>\n",
       "    </tr>\n",
       "    <tr>\n",
       "      <th>15883648</th>\n",
       "      <td>15884076</td>\n",
       "      <td>UPREGULATES_AuG</td>\n",
       "      <td>2853771</td>\n",
       "      <td>20550</td>\n",
       "      <td>{\"unbiased\": true, \"hetionet\": \"yes\"}</td>\n",
       "      <td>['Hetionet']</td>\n",
       "      <td>NaN</td>\n",
       "      <td>Bgee</td>\n",
       "      <td>NaN</td>\n",
       "    </tr>\n",
       "    <tr>\n",
       "      <th>15883649</th>\n",
       "      <td>15884077</td>\n",
       "      <td>UPREGULATES_AuG</td>\n",
       "      <td>2853652</td>\n",
       "      <td>15012</td>\n",
       "      <td>{\"unbiased\": true, \"hetionet\": \"yes\"}</td>\n",
       "      <td>['Hetionet']</td>\n",
       "      <td>NaN</td>\n",
       "      <td>Bgee</td>\n",
       "      <td>NaN</td>\n",
       "    </tr>\n",
       "    <tr>\n",
       "      <th>15883650</th>\n",
       "      <td>15884078</td>\n",
       "      <td>UPREGULATES_AuG</td>\n",
       "      <td>2853552</td>\n",
       "      <td>33011</td>\n",
       "      <td>{\"unbiased\": true, \"hetionet\": \"yes\"}</td>\n",
       "      <td>['Hetionet']</td>\n",
       "      <td>NaN</td>\n",
       "      <td>Bgee</td>\n",
       "      <td>NaN</td>\n",
       "    </tr>\n",
       "    <tr>\n",
       "      <th>15883651</th>\n",
       "      <td>15884079</td>\n",
       "      <td>UPREGULATES_AuG</td>\n",
       "      <td>2853739</td>\n",
       "      <td>7999</td>\n",
       "      <td>{\"unbiased\": true, \"hetionet\": \"yes\"}</td>\n",
       "      <td>['Hetionet']</td>\n",
       "      <td>NaN</td>\n",
       "      <td>Bgee</td>\n",
       "      <td>NaN</td>\n",
       "    </tr>\n",
       "    <tr>\n",
       "      <th>15883652</th>\n",
       "      <td>15884080</td>\n",
       "      <td>UPREGULATES_AuG</td>\n",
       "      <td>2853552</td>\n",
       "      <td>7888</td>\n",
       "      <td>{\"unbiased\": true, \"hetionet\": \"yes\"}</td>\n",
       "      <td>['Hetionet']</td>\n",
       "      <td>NaN</td>\n",
       "      <td>Bgee</td>\n",
       "      <td>NaN</td>\n",
       "    </tr>\n",
       "  </tbody>\n",
       "</table>\n",
       "<p>15883653 rows × 9 columns</p>\n",
       "</div>"
      ],
      "text/plain": [
       "          relationship_id               type  start_id  end_id  \\\n",
       "0                       0  INVOLVED_IN_PiiBP    192000  304346   \n",
       "1                       1  INVOLVED_IN_PiiBP    192000  297825   \n",
       "2                       2  INVOLVED_IN_PiiBP    192000  297959   \n",
       "3                       3  INVOLVED_IN_PiiBP    192000  317503   \n",
       "4                       4  INVOLVED_IN_PiiBP    192000  295456   \n",
       "...                   ...                ...       ...     ...   \n",
       "15883648         15884076    UPREGULATES_AuG   2853771   20550   \n",
       "15883649         15884077    UPREGULATES_AuG   2853652   15012   \n",
       "15883650         15884078    UPREGULATES_AuG   2853552   33011   \n",
       "15883651         15884079    UPREGULATES_AuG   2853739    7999   \n",
       "15883652         15884080    UPREGULATES_AuG   2853552    7888   \n",
       "\n",
       "                                                 properties      resource  \\\n",
       "0         {\"date\": [\"20210905\"], \"with_from\": [\"PANTHER:...        ['GO']   \n",
       "1         {\"date\": [\"20210623\"], \"with_from\": [\"PANTHER:...        ['GO']   \n",
       "2         {\"date\": [\"20210623\"], \"with_from\": [\"PANTHER:...        ['GO']   \n",
       "3         {\"date\": [\"20200226\"], \"go\": \"yes\", \"pubMed_id...        ['GO']   \n",
       "4         {\"date\": [\"20211127\"], \"with_from\": [\"UniProtK...        ['GO']   \n",
       "...                                                     ...           ...   \n",
       "15883648              {\"unbiased\": true, \"hetionet\": \"yes\"}  ['Hetionet']   \n",
       "15883649              {\"unbiased\": true, \"hetionet\": \"yes\"}  ['Hetionet']   \n",
       "15883650              {\"unbiased\": true, \"hetionet\": \"yes\"}  ['Hetionet']   \n",
       "15883651              {\"unbiased\": true, \"hetionet\": \"yes\"}  ['Hetionet']   \n",
       "15883652              {\"unbiased\": true, \"hetionet\": \"yes\"}  ['Hetionet']   \n",
       "\n",
       "            license         source                                        url  \n",
       "0         CC BY 4.0  Gene Ontology  http://purl.obolibrary.org/obo/GO:0034613  \n",
       "1         CC BY 4.0  Gene Ontology  http://purl.obolibrary.org/obo/GO:0007165  \n",
       "2         CC BY 4.0  Gene Ontology  http://purl.obolibrary.org/obo/GO:0007346  \n",
       "3         CC BY 4.0  Gene Ontology  http://purl.obolibrary.org/obo/GO:1901020  \n",
       "4         CC BY 4.0  Gene Ontology  http://purl.obolibrary.org/obo/GO:0001764  \n",
       "...             ...            ...                                        ...  \n",
       "15883648        NaN           Bgee                                        NaN  \n",
       "15883649        NaN           Bgee                                        NaN  \n",
       "15883650        NaN           Bgee                                        NaN  \n",
       "15883651        NaN           Bgee                                        NaN  \n",
       "15883652        NaN           Bgee                                        NaN  \n",
       "\n",
       "[15883653 rows x 9 columns]"
      ]
     },
     "execution_count": 3,
     "metadata": {},
     "output_type": "execute_result"
    }
   ],
   "source": [
    "# Edges dataframe\n",
    "\n",
    "df_triples = pd.read_csv(data_path.joinpath(\"edges.tsv\"), sep=\"\\t\")\n",
    "df_triples"
   ]
  },
  {
   "cell_type": "code",
   "execution_count": 4,
   "metadata": {},
   "outputs": [
    {
     "name": "stderr",
     "output_type": "stream",
     "text": [
      "/tmp/ipykernel_57340/1216339428.py:3: DtypeWarning: Columns (3,4) have mixed types. Specify dtype option on import or set low_memory=False.\n",
      "  df_nodes = pd.read_csv(data_path.joinpath(\"nodes.tsv\"), sep=\"\\t\")\n"
     ]
    },
    {
     "data": {
      "text/html": [
       "<div>\n",
       "<style scoped>\n",
       "    .dataframe tbody tr th:only-of-type {\n",
       "        vertical-align: middle;\n",
       "    }\n",
       "\n",
       "    .dataframe tbody tr th {\n",
       "        vertical-align: top;\n",
       "    }\n",
       "\n",
       "    .dataframe thead th {\n",
       "        text-align: right;\n",
       "    }\n",
       "</style>\n",
       "<table border=\"1\" class=\"dataframe\">\n",
       "  <thead>\n",
       "    <tr style=\"text-align: right;\">\n",
       "      <th></th>\n",
       "      <th>node_id</th>\n",
       "      <th>labels</th>\n",
       "      <th>properties</th>\n",
       "      <th>name</th>\n",
       "      <th>identifier</th>\n",
       "      <th>resource</th>\n",
       "      <th>license</th>\n",
       "      <th>source</th>\n",
       "      <th>url</th>\n",
       "    </tr>\n",
       "  </thead>\n",
       "  <tbody>\n",
       "    <tr>\n",
       "      <th>0</th>\n",
       "      <td>0</td>\n",
       "      <td>Gene</td>\n",
       "      <td>{\"chromosome\": \"1\", \"go\": \"yes\", \"xrefs\": [\"Ph...</td>\n",
       "      <td>IQ motif containing GTPase activating protein 3</td>\n",
       "      <td>128239</td>\n",
       "      <td>['CTD', 'ClinVar', 'GO', 'Hetionet', 'NCBI', '...</td>\n",
       "      <td>CC0 1.0</td>\n",
       "      <td>Entrez Gene</td>\n",
       "      <td>http://identifiers.org/ncbigene/128239</td>\n",
       "    </tr>\n",
       "    <tr>\n",
       "      <th>1</th>\n",
       "      <td>1</td>\n",
       "      <td>Gene</td>\n",
       "      <td>{\"synonyms\": [\"LONP\", \"LONPL\", \"PLON\", \"PSLON\"...</td>\n",
       "      <td>lon peptidase 2, peroxisomal</td>\n",
       "      <td>83752</td>\n",
       "      <td>['CTD', 'ClinVar', 'GO', 'Hetionet', 'NCBI', '...</td>\n",
       "      <td>CC0 1.0</td>\n",
       "      <td>Entrez Gene</td>\n",
       "      <td>http://identifiers.org/ncbigene/83752</td>\n",
       "    </tr>\n",
       "    <tr>\n",
       "      <th>2</th>\n",
       "      <td>2</td>\n",
       "      <td>Gene</td>\n",
       "      <td>{\"synonyms\": [\"LRP1\", \"Rrp47\", \"SUN-CoR\", \"SUN...</td>\n",
       "      <td>C1D nuclear receptor corepressor</td>\n",
       "      <td>10438</td>\n",
       "      <td>['CTD', 'ClinVar', 'GO', 'Hetionet', 'NCBI', '...</td>\n",
       "      <td>CC0 1.0</td>\n",
       "      <td>Entrez Gene</td>\n",
       "      <td>http://identifiers.org/ncbigene/10438</td>\n",
       "    </tr>\n",
       "    <tr>\n",
       "      <th>3</th>\n",
       "      <td>3</td>\n",
       "      <td>Gene</td>\n",
       "      <td>{\"synonyms\": [\"JEAP\"], \"chromosome\": \"11\", \"go...</td>\n",
       "      <td>angiomotin like 1</td>\n",
       "      <td>154810</td>\n",
       "      <td>['CTD', 'ClinVar', 'GO', 'Hetionet', 'NCBI', '...</td>\n",
       "      <td>CC0 1.0</td>\n",
       "      <td>Entrez Gene</td>\n",
       "      <td>http://identifiers.org/ncbigene/154810</td>\n",
       "    </tr>\n",
       "    <tr>\n",
       "      <th>4</th>\n",
       "      <td>4</td>\n",
       "      <td>Gene</td>\n",
       "      <td>{\"synonyms\": [\"BRNRS\", \"MAO-A\"], \"chromosome\":...</td>\n",
       "      <td>monoamine oxidase A</td>\n",
       "      <td>4128</td>\n",
       "      <td>['CTD', 'ClinVar', 'GO', 'Hetionet', 'NCBI', '...</td>\n",
       "      <td>CC0 1.0</td>\n",
       "      <td>Entrez Gene</td>\n",
       "      <td>http://identifiers.org/ncbigene/4128</td>\n",
       "    </tr>\n",
       "    <tr>\n",
       "      <th>...</th>\n",
       "      <td>...</td>\n",
       "      <td>...</td>\n",
       "      <td>...</td>\n",
       "      <td>...</td>\n",
       "      <td>...</td>\n",
       "      <td>...</td>\n",
       "      <td>...</td>\n",
       "      <td>...</td>\n",
       "      <td>...</td>\n",
       "    </tr>\n",
       "    <tr>\n",
       "      <th>2869402</th>\n",
       "      <td>2869545</td>\n",
       "      <td>Enzyme|Protein|Target</td>\n",
       "      <td>{\"protein_existence\": \"evidence at protein lev...</td>\n",
       "      <td>Uridine 5'-monophosphate synthase</td>\n",
       "      <td>P11172</td>\n",
       "      <td>['DrugBank', 'GO', 'IID', 'Reactome', 'UniProt']</td>\n",
       "      <td>CC BY 4.0</td>\n",
       "      <td>UniProt</td>\n",
       "      <td>https://www.uniprot.org/uniprot/P11172</td>\n",
       "    </tr>\n",
       "    <tr>\n",
       "      <th>2869403</th>\n",
       "      <td>2869546</td>\n",
       "      <td>Enzyme|Protein|Target</td>\n",
       "      <td>{\"protein_existence\": \"evidence at protein lev...</td>\n",
       "      <td>Uridine phosphorylase 1</td>\n",
       "      <td>Q16831</td>\n",
       "      <td>['DrugBank', 'GO', 'IID', 'Reactome', 'UniProt']</td>\n",
       "      <td>CC BY 4.0</td>\n",
       "      <td>UniProt</td>\n",
       "      <td>https://www.uniprot.org/uniprot/Q16831</td>\n",
       "    </tr>\n",
       "    <tr>\n",
       "      <th>2869404</th>\n",
       "      <td>2869547</td>\n",
       "      <td>Enzyme|Protein|Target</td>\n",
       "      <td>{\"protein_existence\": \"evidence at protein lev...</td>\n",
       "      <td>Urokinase-type plasminogen activator</td>\n",
       "      <td>P00749</td>\n",
       "      <td>['DrugBank', 'GO', 'IID', 'Reactome', 'UniProt']</td>\n",
       "      <td>CC BY 4.0</td>\n",
       "      <td>UniProt</td>\n",
       "      <td>https://www.uniprot.org/uniprot/P00749</td>\n",
       "    </tr>\n",
       "    <tr>\n",
       "      <th>2869405</th>\n",
       "      <td>2869548</td>\n",
       "      <td>Enzyme|Protein|Target</td>\n",
       "      <td>{\"protein_existence\": \"evidence at protein lev...</td>\n",
       "      <td>Vitamin K epoxide reductase complex subunit 1</td>\n",
       "      <td>Q9BQB6</td>\n",
       "      <td>['DrugBank', 'GO', 'IID', 'Reactome', 'UniProt']</td>\n",
       "      <td>CC BY 4.0</td>\n",
       "      <td>UniProt</td>\n",
       "      <td>https://www.uniprot.org/uniprot/Q9BQB6</td>\n",
       "    </tr>\n",
       "    <tr>\n",
       "      <th>2869406</th>\n",
       "      <td>2869549</td>\n",
       "      <td>Enzyme|Protein|Target</td>\n",
       "      <td>{\"protein_existence\": \"evidence at protein lev...</td>\n",
       "      <td>Xanthine dehydrogenase/oxidase</td>\n",
       "      <td>P47989</td>\n",
       "      <td>['DrugBank', 'GO', 'IID', 'Reactome', 'UniProt']</td>\n",
       "      <td>CC BY 4.0</td>\n",
       "      <td>UniProt</td>\n",
       "      <td>https://www.uniprot.org/uniprot/P47989</td>\n",
       "    </tr>\n",
       "  </tbody>\n",
       "</table>\n",
       "<p>2869407 rows × 9 columns</p>\n",
       "</div>"
      ],
      "text/plain": [
       "         node_id                 labels  \\\n",
       "0              0                   Gene   \n",
       "1              1                   Gene   \n",
       "2              2                   Gene   \n",
       "3              3                   Gene   \n",
       "4              4                   Gene   \n",
       "...          ...                    ...   \n",
       "2869402  2869545  Enzyme|Protein|Target   \n",
       "2869403  2869546  Enzyme|Protein|Target   \n",
       "2869404  2869547  Enzyme|Protein|Target   \n",
       "2869405  2869548  Enzyme|Protein|Target   \n",
       "2869406  2869549  Enzyme|Protein|Target   \n",
       "\n",
       "                                                properties  \\\n",
       "0        {\"chromosome\": \"1\", \"go\": \"yes\", \"xrefs\": [\"Ph...   \n",
       "1        {\"synonyms\": [\"LONP\", \"LONPL\", \"PLON\", \"PSLON\"...   \n",
       "2        {\"synonyms\": [\"LRP1\", \"Rrp47\", \"SUN-CoR\", \"SUN...   \n",
       "3        {\"synonyms\": [\"JEAP\"], \"chromosome\": \"11\", \"go...   \n",
       "4        {\"synonyms\": [\"BRNRS\", \"MAO-A\"], \"chromosome\":...   \n",
       "...                                                    ...   \n",
       "2869402  {\"protein_existence\": \"evidence at protein lev...   \n",
       "2869403  {\"protein_existence\": \"evidence at protein lev...   \n",
       "2869404  {\"protein_existence\": \"evidence at protein lev...   \n",
       "2869405  {\"protein_existence\": \"evidence at protein lev...   \n",
       "2869406  {\"protein_existence\": \"evidence at protein lev...   \n",
       "\n",
       "                                                    name identifier  \\\n",
       "0        IQ motif containing GTPase activating protein 3     128239   \n",
       "1                           lon peptidase 2, peroxisomal      83752   \n",
       "2                       C1D nuclear receptor corepressor      10438   \n",
       "3                                      angiomotin like 1     154810   \n",
       "4                                    monoamine oxidase A       4128   \n",
       "...                                                  ...        ...   \n",
       "2869402                Uridine 5'-monophosphate synthase     P11172   \n",
       "2869403                          Uridine phosphorylase 1     Q16831   \n",
       "2869404             Urokinase-type plasminogen activator     P00749   \n",
       "2869405    Vitamin K epoxide reductase complex subunit 1     Q9BQB6   \n",
       "2869406                   Xanthine dehydrogenase/oxidase     P47989   \n",
       "\n",
       "                                                  resource    license  \\\n",
       "0        ['CTD', 'ClinVar', 'GO', 'Hetionet', 'NCBI', '...    CC0 1.0   \n",
       "1        ['CTD', 'ClinVar', 'GO', 'Hetionet', 'NCBI', '...    CC0 1.0   \n",
       "2        ['CTD', 'ClinVar', 'GO', 'Hetionet', 'NCBI', '...    CC0 1.0   \n",
       "3        ['CTD', 'ClinVar', 'GO', 'Hetionet', 'NCBI', '...    CC0 1.0   \n",
       "4        ['CTD', 'ClinVar', 'GO', 'Hetionet', 'NCBI', '...    CC0 1.0   \n",
       "...                                                    ...        ...   \n",
       "2869402   ['DrugBank', 'GO', 'IID', 'Reactome', 'UniProt']  CC BY 4.0   \n",
       "2869403   ['DrugBank', 'GO', 'IID', 'Reactome', 'UniProt']  CC BY 4.0   \n",
       "2869404   ['DrugBank', 'GO', 'IID', 'Reactome', 'UniProt']  CC BY 4.0   \n",
       "2869405   ['DrugBank', 'GO', 'IID', 'Reactome', 'UniProt']  CC BY 4.0   \n",
       "2869406   ['DrugBank', 'GO', 'IID', 'Reactome', 'UniProt']  CC BY 4.0   \n",
       "\n",
       "              source                                     url  \n",
       "0        Entrez Gene  http://identifiers.org/ncbigene/128239  \n",
       "1        Entrez Gene   http://identifiers.org/ncbigene/83752  \n",
       "2        Entrez Gene   http://identifiers.org/ncbigene/10438  \n",
       "3        Entrez Gene  http://identifiers.org/ncbigene/154810  \n",
       "4        Entrez Gene    http://identifiers.org/ncbigene/4128  \n",
       "...              ...                                     ...  \n",
       "2869402      UniProt  https://www.uniprot.org/uniprot/P11172  \n",
       "2869403      UniProt  https://www.uniprot.org/uniprot/Q16831  \n",
       "2869404      UniProt  https://www.uniprot.org/uniprot/P00749  \n",
       "2869405      UniProt  https://www.uniprot.org/uniprot/Q9BQB6  \n",
       "2869406      UniProt  https://www.uniprot.org/uniprot/P47989  \n",
       "\n",
       "[2869407 rows x 9 columns]"
      ]
     },
     "execution_count": 4,
     "metadata": {},
     "output_type": "execute_result"
    }
   ],
   "source": [
    "# Node dataframe\n",
    "\n",
    "df_nodes = pd.read_csv(data_path.joinpath(\"nodes.tsv\"), sep=\"\\t\")\n",
    "df_nodes"
   ]
  },
  {
   "cell_type": "markdown",
   "metadata": {},
   "source": [
    "Discard entities not appearing in any triple."
   ]
  },
  {
   "cell_type": "code",
   "execution_count": 5,
   "metadata": {},
   "outputs": [
    {
     "name": "stdout",
     "output_type": "stream",
     "text": [
      "Unique nodes appearing in triples: 2653751\n"
     ]
    }
   ],
   "source": [
    "ht_nodes = pd.concat([df_triples[\"start_id\"], df_triples[\"end_id\"]], ignore_index=True)\n",
    "node_used = np.unique(ht_nodes.values)\n",
    "print(f\"Unique nodes appearing in triples: {node_used.shape[0]}\")"
   ]
  },
  {
   "cell_type": "code",
   "execution_count": 6,
   "metadata": {},
   "outputs": [
    {
     "data": {
      "text/html": [
       "<div>\n",
       "<style scoped>\n",
       "    .dataframe tbody tr th:only-of-type {\n",
       "        vertical-align: middle;\n",
       "    }\n",
       "\n",
       "    .dataframe tbody tr th {\n",
       "        vertical-align: top;\n",
       "    }\n",
       "\n",
       "    .dataframe thead th {\n",
       "        text-align: right;\n",
       "    }\n",
       "</style>\n",
       "<table border=\"1\" class=\"dataframe\">\n",
       "  <thead>\n",
       "    <tr style=\"text-align: right;\">\n",
       "      <th></th>\n",
       "      <th>node_id</th>\n",
       "      <th>identifier</th>\n",
       "      <th>name</th>\n",
       "      <th>labels</th>\n",
       "    </tr>\n",
       "  </thead>\n",
       "  <tbody>\n",
       "    <tr>\n",
       "      <th>0</th>\n",
       "      <td>0</td>\n",
       "      <td>128239</td>\n",
       "      <td>IQ motif containing GTPase activating protein 3</td>\n",
       "      <td>Gene</td>\n",
       "    </tr>\n",
       "    <tr>\n",
       "      <th>1</th>\n",
       "      <td>1</td>\n",
       "      <td>83752</td>\n",
       "      <td>lon peptidase 2, peroxisomal</td>\n",
       "      <td>Gene</td>\n",
       "    </tr>\n",
       "    <tr>\n",
       "      <th>2</th>\n",
       "      <td>2</td>\n",
       "      <td>10438</td>\n",
       "      <td>C1D nuclear receptor corepressor</td>\n",
       "      <td>Gene</td>\n",
       "    </tr>\n",
       "    <tr>\n",
       "      <th>3</th>\n",
       "      <td>3</td>\n",
       "      <td>154810</td>\n",
       "      <td>angiomotin like 1</td>\n",
       "      <td>Gene</td>\n",
       "    </tr>\n",
       "    <tr>\n",
       "      <th>4</th>\n",
       "      <td>4</td>\n",
       "      <td>4128</td>\n",
       "      <td>monoamine oxidase A</td>\n",
       "      <td>Gene</td>\n",
       "    </tr>\n",
       "    <tr>\n",
       "      <th>...</th>\n",
       "      <td>...</td>\n",
       "      <td>...</td>\n",
       "      <td>...</td>\n",
       "      <td>...</td>\n",
       "    </tr>\n",
       "    <tr>\n",
       "      <th>2653746</th>\n",
       "      <td>2869545</td>\n",
       "      <td>P11172</td>\n",
       "      <td>Uridine 5'-monophosphate synthase</td>\n",
       "      <td>Enzyme|Protein|Target</td>\n",
       "    </tr>\n",
       "    <tr>\n",
       "      <th>2653747</th>\n",
       "      <td>2869546</td>\n",
       "      <td>Q16831</td>\n",
       "      <td>Uridine phosphorylase 1</td>\n",
       "      <td>Enzyme|Protein|Target</td>\n",
       "    </tr>\n",
       "    <tr>\n",
       "      <th>2653748</th>\n",
       "      <td>2869547</td>\n",
       "      <td>P00749</td>\n",
       "      <td>Urokinase-type plasminogen activator</td>\n",
       "      <td>Enzyme|Protein|Target</td>\n",
       "    </tr>\n",
       "    <tr>\n",
       "      <th>2653749</th>\n",
       "      <td>2869548</td>\n",
       "      <td>Q9BQB6</td>\n",
       "      <td>Vitamin K epoxide reductase complex subunit 1</td>\n",
       "      <td>Enzyme|Protein|Target</td>\n",
       "    </tr>\n",
       "    <tr>\n",
       "      <th>2653750</th>\n",
       "      <td>2869549</td>\n",
       "      <td>P47989</td>\n",
       "      <td>Xanthine dehydrogenase/oxidase</td>\n",
       "      <td>Enzyme|Protein|Target</td>\n",
       "    </tr>\n",
       "  </tbody>\n",
       "</table>\n",
       "<p>2653751 rows × 4 columns</p>\n",
       "</div>"
      ],
      "text/plain": [
       "         node_id identifier                                             name  \\\n",
       "0              0     128239  IQ motif containing GTPase activating protein 3   \n",
       "1              1      83752                     lon peptidase 2, peroxisomal   \n",
       "2              2      10438                 C1D nuclear receptor corepressor   \n",
       "3              3     154810                                angiomotin like 1   \n",
       "4              4       4128                              monoamine oxidase A   \n",
       "...          ...        ...                                              ...   \n",
       "2653746  2869545     P11172                Uridine 5'-monophosphate synthase   \n",
       "2653747  2869546     Q16831                          Uridine phosphorylase 1   \n",
       "2653748  2869547     P00749             Urokinase-type plasminogen activator   \n",
       "2653749  2869548     Q9BQB6    Vitamin K epoxide reductase complex subunit 1   \n",
       "2653750  2869549     P47989                   Xanthine dehydrogenase/oxidase   \n",
       "\n",
       "                        labels  \n",
       "0                         Gene  \n",
       "1                         Gene  \n",
       "2                         Gene  \n",
       "3                         Gene  \n",
       "4                         Gene  \n",
       "...                        ...  \n",
       "2653746  Enzyme|Protein|Target  \n",
       "2653747  Enzyme|Protein|Target  \n",
       "2653748  Enzyme|Protein|Target  \n",
       "2653749  Enzyme|Protein|Target  \n",
       "2653750  Enzyme|Protein|Target  \n",
       "\n",
       "[2653751 rows x 4 columns]"
      ]
     },
     "execution_count": 6,
     "metadata": {},
     "output_type": "execute_result"
    }
   ],
   "source": [
    "df_nodes_used = pd.merge(\n",
    "    pd.DataFrame(ht_nodes).groupby(0).first().reset_index(),\n",
    "    df_nodes,\n",
    "    left_on=0,\n",
    "    right_on=\"node_id\",\n",
    "    how=\"left\",\n",
    ")[[\"node_id\", \"identifier\", \"name\", \"labels\"]]\n",
    "assert np.all(df_nodes_used[\"node_id\"].values == node_used)\n",
    "df_nodes_used"
   ]
  },
  {
   "cell_type": "markdown",
   "metadata": {},
   "source": [
    "Reorder entities so that entities with same label are contiguous."
   ]
  },
  {
   "cell_type": "code",
   "execution_count": 8,
   "metadata": {},
   "outputs": [],
   "source": [
    "df_nodes_used_sorted = df_nodes_used.sort_values(\"labels\")\n",
    "df_nodes_used_sorted[\"name\"] = (\n",
    "    df_nodes_used_sorted[\"identifier\"].astype(str)\n",
    "    + \" (\"\n",
    "    + df_nodes_used_sorted[\"name\"]\n",
    "    + \")\"\n",
    ")"
   ]
  },
  {
   "cell_type": "code",
   "execution_count": 9,
   "metadata": {},
   "outputs": [
    {
     "data": {
      "text/plain": [
       "['UBERON:0001679 (ethmoid bone)',\n",
       " 'UBERON:0001684 (mandible)',\n",
       " 'UBERON:0001103 (diaphragm)',\n",
       " 'UBERON:0001193 (hepatic artery)',\n",
       " 'UBERON:0002055 (zona reticularis of adrenal gland)',\n",
       " 'UBERON:0001827 (secretion of lacrimal gland)',\n",
       " 'UBERON:0002250 (popliteal artery)',\n",
       " 'UBERON:0002018 (synovial membrane of synovial joint)',\n",
       " 'UBERON:0001914 (colostrum)',\n",
       " 'UBERON:0002130 (cerebellar nuclear complex)',\n",
       " 'UBERON:0001759 (vagus nerve)',\n",
       " 'UBERON:0001645 (trigeminal nerve)',\n",
       " 'UBERON:0002299 (alveolus of lung)',\n",
       " 'UBERON:0001225 (cortex of kidney)',\n",
       " 'UBERON:0001132 (parathyroid gland)',\n",
       " 'UBERON:0000178 (blood)',\n",
       " 'UBERON:0001463 (manual digit 1)',\n",
       " 'UBERON:0003889 (fallopian tube)',\n",
       " 'UBERON:0001910 (medial forebrain bundle)',\n",
       " 'UBERON:0001567 (cheek)']"
      ]
     },
     "execution_count": 9,
     "metadata": {},
     "output_type": "execute_result"
    }
   ],
   "source": [
    "ent_dict = df_nodes_used_sorted[\"name\"].values.tolist()\n",
    "ent_dict[:20]"
   ]
  },
  {
   "cell_type": "markdown",
   "metadata": {},
   "source": [
    "We consider all different relation labels as independent types."
   ]
  },
  {
   "cell_type": "code",
   "execution_count": 10,
   "metadata": {},
   "outputs": [
    {
     "data": {
      "text/plain": [
       "labels\n",
       "Anatomy                                                        0.0\n",
       "BiologicalProcess                                            400.0\n",
       "BlackBoxEvent|ReactionLikeEvent                            28729.0\n",
       "Carrier|Enzyme|Protein                                     30672.0\n",
       "Carrier|Enzyme|Protein|Target                              30673.0\n",
       "                                                           ...    \n",
       "Reaction|ReactionLikeEvent                               2631237.0\n",
       "Treatment                                                2641770.0\n",
       "VariantAnnotation|VariantDrugAnnotation                  2642368.0\n",
       "VariantAnnotation|VariantFunctionalAnalysisAnnotation    2646949.0\n",
       "VariantAnnotation|VariantPhenotypeAnnotation             2648025.0\n",
       "Name: labels, Length: 66, dtype: float64"
      ]
     },
     "execution_count": 10,
     "metadata": {},
     "output_type": "execute_result"
    }
   ],
   "source": [
    "type_offset = df_nodes_used_sorted.groupby(\"labels\")[\"labels\"].count().cumsum().shift(1)\n",
    "type_offset.iloc[0] = 0\n",
    "type_offset"
   ]
  },
  {
   "cell_type": "code",
   "execution_count": 100,
   "metadata": {},
   "outputs": [],
   "source": [
    "type_offset = type_offset.astype(\"int64\").to_dict()"
   ]
  },
  {
   "cell_type": "markdown",
   "metadata": {},
   "source": [
    "Build inverse index to map entity IDs in `df_triples` to the new entity mapping."
   ]
  },
  {
   "cell_type": "code",
   "execution_count": 101,
   "metadata": {},
   "outputs": [],
   "source": [
    "rev_idx = -np.ones(df_nodes[\"node_id\"].max() + 1, dtype=np.int64)\n",
    "rev_idx[df_nodes_used_sorted[\"node_id\"].values] = np.arange(\n",
    "    df_nodes_used_sorted.shape[0]\n",
    ")\n",
    "\n",
    "heads = rev_idx[df_triples[\"start_id\"]]\n",
    "tails = rev_idx[df_triples[\"end_id\"]]"
   ]
  },
  {
   "cell_type": "markdown",
   "metadata": {},
   "source": [
    "Relations"
   ]
  },
  {
   "cell_type": "code",
   "execution_count": 102,
   "metadata": {},
   "outputs": [
    {
     "data": {
      "text/plain": [
       "(208,\n",
       " array(['ACTS_UPSTREAM_OF_GauoBP',\n",
       "        'ACTS_UPSTREAM_OF_NEGATIVE_EFFECT_GauoneBP',\n",
       "        'ACTS_UPSTREAM_OF_NEGATIVE_EFFECT_PauoneBP',\n",
       "        'ACTS_UPSTREAM_OF_OR_WITHIN_GauoowBP',\n",
       "        'ACTS_UPSTREAM_OF_OR_WITHIN_NEGATIVE_EFFECT_GauoowneBP',\n",
       "        'ACTS_UPSTREAM_OF_OR_WITHIN_NEGATIVE_EFFECT_PauoowneBP',\n",
       "        'ACTS_UPSTREAM_OF_OR_WITHIN_POSITIVE_EFFECT_GauoowpeBP',\n",
       "        'ACTS_UPSTREAM_OF_OR_WITHIN_POSITIVE_EFFECT_PauoowpeBP',\n",
       "        'ACTS_UPSTREAM_OF_OR_WITHIN_PauoowBP',\n",
       "        'ACTS_UPSTREAM_OF_POSITIVE_EFFECT_GauopeBP',\n",
       "        'ACTS_UPSTREAM_OF_POSITIVE_EFFECT_PauopeBP',\n",
       "        'ACTS_UPSTREAM_OF_PauoBP', 'AFFECTS_DEGENERATION_CHadP',\n",
       "        'AFFECTS_DEGENERATION_GadCH', 'AFFECTS_DEGENERATION_PadCH',\n",
       "        'ASSOCIATES_CAaCH', 'ASSOCIATES_CAaG', 'ASSOCIATES_CAaPC',\n",
       "        'ASSOCIATES_CAaPT', 'ASSOCIATES_CAaV'], dtype=object))"
      ]
     },
     "execution_count": 102,
     "metadata": {},
     "output_type": "execute_result"
    }
   ],
   "source": [
    "rel_dict, rel_id = np.unique(df_triples[\"type\"].values, return_inverse=True)\n",
    "len(rel_dict), rel_dict[:20]"
   ]
  },
  {
   "cell_type": "markdown",
   "metadata": {},
   "source": [
    "Finalize the array of triples."
   ]
  },
  {
   "cell_type": "code",
   "execution_count": 103,
   "metadata": {},
   "outputs": [
    {
     "data": {
      "text/plain": [
       "(array([[2630567,     112,    2839],\n",
       "        [2630567,     112,   26915],\n",
       "        [2630567,     112,   27049],\n",
       "        ...,\n",
       "        [     38,     202,  267178],\n",
       "        [    369,     202,  286998],\n",
       "        [     38,     202,  286354]]),\n",
       " (15883653, 3))"
      ]
     },
     "execution_count": 103,
     "metadata": {},
     "output_type": "execute_result"
    }
   ],
   "source": [
    "triples = np.stack([heads, rel_id, tails], axis=1)\n",
    "triples, triples.shape"
   ]
  },
  {
   "cell_type": "markdown",
   "metadata": {},
   "source": [
    "Sanity check:"
   ]
  },
  {
   "cell_type": "code",
   "execution_count": 106,
   "metadata": {},
   "outputs": [
    {
     "data": {
      "text/plain": [
       "('myocardium', 'EXPRESSES_AeG', 'RNA polymerase I subunit E')"
      ]
     },
     "execution_count": 106,
     "metadata": {},
     "output_type": "execute_result"
    }
   ],
   "source": [
    "triple_id = 14256\n",
    "\n",
    "ent_dict[triples[triple_id, 0]], rel_dict[triples[triple_id, 1]], ent_dict[\n",
    "    triples[triple_id, 2]\n",
    "]"
   ]
  },
  {
   "cell_type": "markdown",
   "metadata": {},
   "source": [
    "which correctly coincides with"
   ]
  },
  {
   "cell_type": "code",
   "execution_count": 113,
   "metadata": {},
   "outputs": [
    {
     "name": "stdout",
     "output_type": "stream",
     "text": [
      "head: myocardium\n",
      " relation : EXPRESSES_AeG\n",
      " tail: RNA polymerase I subunit E\n"
     ]
    }
   ],
   "source": [
    "print(\n",
    "    f\"head: {df_nodes[df_nodes['node_id'] == df_triples.iloc[triple_id]['start_id']]['name'].iloc[0]}\\n\",\n",
    "    f\"relation : {df_triples.iloc[triple_id]['type']}\\n\",\n",
    "    f\"tail: {df_nodes[df_nodes['node_id'] == df_triples.iloc[triple_id]['end_id']]['name'].iloc[0]}\",\n",
    ")"
   ]
  },
  {
   "cell_type": "markdown",
   "metadata": {},
   "source": [
    "## Save\n",
    "\n",
    "Save triples and dictionaries."
   ]
  },
  {
   "cell_type": "code",
   "execution_count": 115,
   "metadata": {},
   "outputs": [],
   "source": [
    "torch.save(triples, data_path.joinpath(\"triples.pt\"))\n",
    "with open(data_path.joinpath(\"entity_dict.pkl\"), \"wb\") as f:\n",
    "    pickle.dump(ent_dict, f)\n",
    "with open(data_path.joinpath(\"relation_dict.pkl\"), \"wb\") as f:\n",
    "    pickle.dump(rel_dict, f)\n",
    "with open(data_path.joinpath(\"type_offset.pkl\"), \"wb\") as f:\n",
    "    pickle.dump(type_offset, f)"
   ]
  }
 ],
 "metadata": {
  "kernelspec": {
   "display_name": "Python 3 (ipykernel)",
   "language": "python",
   "name": "python3"
  },
  "language_info": {
   "codemirror_mode": {
    "name": "ipython",
    "version": 3
   },
   "file_extension": ".py",
   "mimetype": "text/x-python",
   "name": "python",
   "nbconvert_exporter": "python",
   "pygments_lexer": "ipython3",
   "version": "3.8.10"
  },
  "pycharm": {
   "stem_cell": {
    "cell_type": "raw",
    "metadata": {
     "collapsed": false
    },
    "source": []
   }
  }
 },
 "nbformat": 4,
 "nbformat_minor": 4
}
