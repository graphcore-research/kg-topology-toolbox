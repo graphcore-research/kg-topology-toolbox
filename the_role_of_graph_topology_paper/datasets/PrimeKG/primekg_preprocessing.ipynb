{
 "cells": [
  {
   "cell_type": "markdown",
   "id": "4a91d0f9",
   "metadata": {},
   "source": [
    "Copyright (c) 2023 Graphcore Ltd. All rights reserved.\n",
    "\n",
    "# PrimeKG\n",
    "\n",
    "## Triple pre-processing"
   ]
  },
  {
   "cell_type": "code",
   "execution_count": 1,
   "id": "a9fc32ba-08e3-4cbf-b665-fa011258cce5",
   "metadata": {},
   "outputs": [],
   "source": [
    "import requests\n",
    "import numpy as np\n",
    "import pandas as pd\n",
    "import random\n",
    "import pickle\n",
    "from pathlib import Path\n",
    "import torch"
   ]
  },
  {
   "cell_type": "code",
   "execution_count": 3,
   "id": "ab213e8e-d509-4c44-b96c-66627c87570c",
   "metadata": {},
   "outputs": [],
   "source": [
    "URL = \"https://dataverse.harvard.edu/api/access/datafile/6180617\"\n",
    "\n",
    "res = requests.get(url=URL)\n",
    "with open(\"../data/primekg/nodes.csv\", \"wb\") as output:\n",
    "    output.write(res.content)"
   ]
  },
  {
   "cell_type": "code",
   "execution_count": 4,
   "id": "df37885f-75c1-4160-b46d-3b28f7e4b3e5",
   "metadata": {},
   "outputs": [],
   "source": [
    "URL = \"https://dataverse.harvard.edu/api/access/datafile/6180620\"\n",
    "\n",
    "res = requests.get(url=URL)\n",
    "with open(\"../data/primekg/edges.csv\", \"wb\") as output:\n",
    "    output.write(res.content)"
   ]
  },
  {
   "cell_type": "code",
   "execution_count": 2,
   "id": "ef0f3ce2-a9ff-4b90-bf09-0884356314b9",
   "metadata": {},
   "outputs": [],
   "source": [
    "# load the PrimeKG edge and node files\n",
    "raw_edge_df = pd.read_csv(\"../data/primekg/edges.csv\", low_memory=False)\n",
    "raw_node_df = pd.read_csv(\"../data/primekg/nodes.csv\", delimiter=\"\\t\")"
   ]
  },
  {
   "cell_type": "code",
   "execution_count": 3,
   "id": "572655d9-fefb-465f-9b4a-5af364ba7df0",
   "metadata": {},
   "outputs": [],
   "source": [
    "# generate random node ids as the node ids provided are not unique\n",
    "random.seed(42)\n",
    "raw_node_df[\"node_id\"] = [\n",
    "    random.randint(1, 1000000000000) for _ in range(len(raw_node_df))\n",
    "]\n",
    "\n",
    "modified_node_df = pd.DataFrame()\n",
    "modified_node_df[\"uuid\"] = raw_node_df[\"node_id\"]\n",
    "modified_node_df[\"type\"] = raw_node_df[\"node_type\"]\n",
    "modified_node_df[\"name\"] = raw_node_df[\"node_name\"]\n",
    "modified_node_df[\"id\"] = raw_node_df[\"node_index\"]\n",
    "\n",
    "modified_node_df = modified_node_df.astype({\"uuid\": \"str\"})"
   ]
  },
  {
   "cell_type": "code",
   "execution_count": 4,
   "id": "6699e60e",
   "metadata": {},
   "outputs": [
    {
     "name": "stdout",
     "output_type": "stream",
     "text": [
      "num unique node_index: 129375\n",
      "num unique node_id: 129375\n",
      "num unique node_name: 129262\n"
     ]
    }
   ],
   "source": [
    "print(\"num unique node_index:\", raw_node_df.node_index.nunique())\n",
    "print(\"num unique node_id:\", raw_node_df.node_id.nunique())\n",
    "print(\"num unique node_name:\", raw_node_df.node_name.nunique())"
   ]
  },
  {
   "cell_type": "code",
   "execution_count": 5,
   "id": "70730d98-320e-48ab-8a78-3f2f707e1c8a",
   "metadata": {},
   "outputs": [],
   "source": [
    "df_source = pd.merge(\n",
    "    raw_edge_df, raw_node_df, how=\"left\", left_on=\"x_index\", right_on=\"node_index\"\n",
    ")\n",
    "df_target = pd.merge(\n",
    "    raw_edge_df, raw_node_df, how=\"left\", left_on=\"y_index\", right_on=\"node_index\"\n",
    ")"
   ]
  },
  {
   "cell_type": "code",
   "execution_count": 6,
   "id": "8d51d155",
   "metadata": {},
   "outputs": [
    {
     "name": "stdout",
     "output_type": "stream",
     "text": [
      "PrimeKG unique index: 129375\n",
      "PrimeKG unique id: 90067\n",
      "PrimeKG unique name: 129262\n"
     ]
    }
   ],
   "source": [
    "concat_df = pd.concat([raw_edge_df[\"x_index\"], raw_edge_df[\"y_index\"]])\n",
    "print(\"PrimeKG unique index:\", concat_df.nunique())\n",
    "\n",
    "concat_df = pd.concat([raw_edge_df[\"x_id\"], raw_edge_df[\"y_id\"]])\n",
    "print(\"PrimeKG unique id:\", concat_df.nunique())\n",
    "\n",
    "concat_df = pd.concat([raw_edge_df[\"x_name\"], raw_edge_df[\"y_name\"]])\n",
    "print(\"PrimeKG unique name:\", concat_df.nunique())"
   ]
  },
  {
   "cell_type": "code",
   "execution_count": 7,
   "id": "5cd74dba-ff28-4d74-bc1a-91dbbf2f3439",
   "metadata": {},
   "outputs": [],
   "source": [
    "edge_df = pd.DataFrame()\n",
    "\n",
    "edge_df[\"source\"] = df_source[\"node_id\"]\n",
    "edge_df[\"target\"] = df_target[\"node_id\"]\n",
    "\n",
    "edge_df[\"source_type\"] = raw_edge_df[\"x_type\"]\n",
    "edge_df[\"target_type\"] = raw_edge_df[\"y_type\"]\n",
    "\n",
    "edge_df[\"label\"] = raw_edge_df[\"relation\"]\n",
    "\n",
    "edge_df[\"source_id\"] = raw_edge_df[\"x_index\"]\n",
    "edge_df[\"target_id\"] = raw_edge_df[\"y_index\"]\n",
    "\n",
    "edge_df[\"source_name\"] = raw_edge_df[\"x_name\"]\n",
    "edge_df[\"target_name\"] = raw_edge_df[\"y_name\"]\n",
    "\n",
    "edge_df[\"label_id\"] = edge_df.groupby(\"label\").ngroup(ascending=False)"
   ]
  },
  {
   "cell_type": "code",
   "execution_count": 8,
   "id": "f0be1157-f706-4cae-bc51-80b815ef6354",
   "metadata": {},
   "outputs": [],
   "source": [
    "label_list = edge_df.label.unique().tolist()\n",
    "label_list_split = [label.split(\"_\")[:2] for label in label_list]"
   ]
  },
  {
   "cell_type": "markdown",
   "id": "f21ed9f1",
   "metadata": {},
   "source": [
    "As in PrimeKG all triples are treated as undirected, we discard one direction of each edge."
   ]
  },
  {
   "cell_type": "code",
   "execution_count": 9,
   "id": "872a242f-0594-4f94-8d93-f199486ff296",
   "metadata": {},
   "outputs": [],
   "source": [
    "modified_edge_df = pd.DataFrame()\n",
    "\n",
    "for idx, label_split in enumerate(label_list_split):\n",
    "    label_temp = label_list[idx]\n",
    "    if len(label_split) == 2:\n",
    "        if label_split[0] != label_split[1]:\n",
    "            temp_df = edge_df[\n",
    "                (edge_df.label == label_temp)\n",
    "                & (edge_df.source_type.str.contains(label_split[0]))\n",
    "            ]\n",
    "            if idx == 0:\n",
    "                modified_edge_df = temp_df.copy()\n",
    "            else:\n",
    "                modified_edge_df = pd.concat([modified_edge_df, temp_df])"
   ]
  },
  {
   "cell_type": "code",
   "execution_count": 10,
   "id": "8b81896c-e328-4e5c-a1b5-fa3d5befb5e2",
   "metadata": {},
   "outputs": [],
   "source": [
    "modified_edge_df = pd.concat(\n",
    "    [\n",
    "        edge_df[\n",
    "            (edge_df.label == \"molfunc_protein\")\n",
    "            & (edge_df.source_type == \"molecular_function\")\n",
    "        ],\n",
    "        modified_edge_df,\n",
    "    ]\n",
    ")\n",
    "modified_edge_df = pd.concat(\n",
    "    [\n",
    "        edge_df[\n",
    "            (edge_df.label == \"cellcomp_protein\")\n",
    "            & (edge_df.source_type == \"cellular_component\")\n",
    "        ],\n",
    "        modified_edge_df,\n",
    "    ]\n",
    ")\n",
    "modified_edge_df = pd.concat(\n",
    "    [\n",
    "        edge_df[\n",
    "            (edge_df.label == \"bioprocess_protein\")\n",
    "            & (edge_df.source_type == \"biological_process\")\n",
    "        ],\n",
    "        modified_edge_df,\n",
    "    ]\n",
    ")"
   ]
  },
  {
   "cell_type": "code",
   "execution_count": 11,
   "id": "2ceaa22c",
   "metadata": {},
   "outputs": [],
   "source": [
    "for idx, relation in enumerate(label_list):\n",
    "    df_relation = edge_df[edge_df.label == relation]\n",
    "\n",
    "    if len(label_list_split[idx]) > 1:\n",
    "        df_swapped = df_relation.copy()[[\"target_id\", \"source_id\"]]\n",
    "        df_swapped.columns = [\"source_id\", \"target_id\"]\n",
    "\n",
    "        # Concatenate the original dataframe and the swapped dataframe\n",
    "        df_concat = pd.concat([df_relation, df_swapped])\n",
    "\n",
    "        # Drop duplicate rows and keep the first occurrence of each unique edge\n",
    "        df_deduplicated = df_concat.drop_duplicates(subset=[\"source_id\", \"target_id\"])\n",
    "\n",
    "        # Remove edges that were reversed during deduplication\n",
    "        mask = df_deduplicated[\"source_id\"] < df_deduplicated[\"target_id\"]\n",
    "        df_final = df_deduplicated[mask]\n",
    "\n",
    "        # Reset the index and return the final dataframe\n",
    "        df_final.reset_index(drop=True)\n",
    "\n",
    "        if label_list_split[idx][0] == label_list_split[idx][1]:\n",
    "            modified_edge_df = pd.concat([modified_edge_df, df_final])"
   ]
  },
  {
   "cell_type": "code",
   "execution_count": 12,
   "id": "c3016605",
   "metadata": {},
   "outputs": [],
   "source": [
    "modified_edge_df = pd.concat(\n",
    "    [\n",
    "        modified_edge_df,\n",
    "        edge_df[\n",
    "            (edge_df.label == \"contraindication\") & (edge_df.source_type == \"drug\")\n",
    "        ],\n",
    "    ]\n",
    ")\n",
    "modified_edge_df = pd.concat(\n",
    "    [\n",
    "        modified_edge_df,\n",
    "        edge_df[(edge_df.label == \"indication\") & (edge_df.source_type == \"drug\")],\n",
    "    ]\n",
    ")\n",
    "modified_edge_df = pd.concat(\n",
    "    [\n",
    "        modified_edge_df,\n",
    "        edge_df[(edge_df.label == \"off-label use\") & (edge_df.source_type == \"drug\")],\n",
    "    ]\n",
    ")"
   ]
  },
  {
   "cell_type": "code",
   "execution_count": 13,
   "id": "8b1ec5a0-824e-4106-b189-03d0e535f525",
   "metadata": {},
   "outputs": [],
   "source": [
    "modified_edge_df = modified_edge_df.drop_duplicates()\n",
    "\n",
    "modified_edge_df = modified_edge_df.astype({\"label_id\": \"int\"})\n",
    "modified_edge_df = modified_edge_df.astype({\"source\": \"str\"})\n",
    "modified_edge_df = modified_edge_df.astype({\"target\": \"str\"})"
   ]
  },
  {
   "cell_type": "code",
   "execution_count": 14,
   "id": "14ac5fb3-ab46-4b9a-aa23-61f0608e6aff",
   "metadata": {},
   "outputs": [
    {
     "data": {
      "text/html": [
       "<div>\n",
       "<style scoped>\n",
       "    .dataframe tbody tr th:only-of-type {\n",
       "        vertical-align: middle;\n",
       "    }\n",
       "\n",
       "    .dataframe tbody tr th {\n",
       "        vertical-align: top;\n",
       "    }\n",
       "\n",
       "    .dataframe thead th {\n",
       "        text-align: right;\n",
       "    }\n",
       "</style>\n",
       "<table border=\"1\" class=\"dataframe\">\n",
       "  <thead>\n",
       "    <tr style=\"text-align: right;\">\n",
       "      <th></th>\n",
       "      <th>source</th>\n",
       "      <th>target</th>\n",
       "      <th>source_type</th>\n",
       "      <th>target_type</th>\n",
       "      <th>label</th>\n",
       "      <th>source_id</th>\n",
       "      <th>target_id</th>\n",
       "      <th>source_name</th>\n",
       "      <th>target_name</th>\n",
       "      <th>label_id</th>\n",
       "    </tr>\n",
       "  </thead>\n",
       "  <tbody>\n",
       "    <tr>\n",
       "      <th>6351194</th>\n",
       "      <td>427809572530.0</td>\n",
       "      <td>47962102762.0</td>\n",
       "      <td>biological_process</td>\n",
       "      <td>gene/protein</td>\n",
       "      <td>bioprocess_protein</td>\n",
       "      <td>112487</td>\n",
       "      <td>7097</td>\n",
       "      <td>neutrophil degranulation</td>\n",
       "      <td>A1BG</td>\n",
       "      <td>25</td>\n",
       "    </tr>\n",
       "    <tr>\n",
       "      <th>6351195</th>\n",
       "      <td>427809572530.0</td>\n",
       "      <td>811505526209.0</td>\n",
       "      <td>biological_process</td>\n",
       "      <td>gene/protein</td>\n",
       "      <td>bioprocess_protein</td>\n",
       "      <td>112487</td>\n",
       "      <td>6931</td>\n",
       "      <td>neutrophil degranulation</td>\n",
       "      <td>SERPINA3</td>\n",
       "      <td>25</td>\n",
       "    </tr>\n",
       "    <tr>\n",
       "      <th>6351196</th>\n",
       "      <td>427809572530.0</td>\n",
       "      <td>84419768413.0</td>\n",
       "      <td>biological_process</td>\n",
       "      <td>gene/protein</td>\n",
       "      <td>bioprocess_protein</td>\n",
       "      <td>112487</td>\n",
       "      <td>1114</td>\n",
       "      <td>neutrophil degranulation</td>\n",
       "      <td>AOC1</td>\n",
       "      <td>25</td>\n",
       "    </tr>\n",
       "    <tr>\n",
       "      <th>6351197</th>\n",
       "      <td>427809572530.0</td>\n",
       "      <td>571566665436.0</td>\n",
       "      <td>biological_process</td>\n",
       "      <td>gene/protein</td>\n",
       "      <td>bioprocess_protein</td>\n",
       "      <td>112487</td>\n",
       "      <td>4852</td>\n",
       "      <td>neutrophil degranulation</td>\n",
       "      <td>ACAA1</td>\n",
       "      <td>25</td>\n",
       "    </tr>\n",
       "    <tr>\n",
       "      <th>6351198</th>\n",
       "      <td>427809572530.0</td>\n",
       "      <td>924927297102.0</td>\n",
       "      <td>biological_process</td>\n",
       "      <td>gene/protein</td>\n",
       "      <td>bioprocess_protein</td>\n",
       "      <td>112487</td>\n",
       "      <td>6561</td>\n",
       "      <td>neutrophil degranulation</td>\n",
       "      <td>ACLY</td>\n",
       "      <td>25</td>\n",
       "    </tr>\n",
       "    <tr>\n",
       "      <th>...</th>\n",
       "      <td>...</td>\n",
       "      <td>...</td>\n",
       "      <td>...</td>\n",
       "      <td>...</td>\n",
       "      <td>...</td>\n",
       "      <td>...</td>\n",
       "      <td>...</td>\n",
       "      <td>...</td>\n",
       "      <td>...</td>\n",
       "      <td>...</td>\n",
       "    </tr>\n",
       "    <tr>\n",
       "      <th>389266</th>\n",
       "      <td>643646437093.0</td>\n",
       "      <td>423516769392.0</td>\n",
       "      <td>drug</td>\n",
       "      <td>disease</td>\n",
       "      <td>off-label use</td>\n",
       "      <td>14286</td>\n",
       "      <td>84318</td>\n",
       "      <td>Rifampicin</td>\n",
       "      <td>paucibacillary leprosy</td>\n",
       "      <td>5</td>\n",
       "    </tr>\n",
       "    <tr>\n",
       "      <th>389289</th>\n",
       "      <td>314216603150.0</td>\n",
       "      <td>467565167408.0</td>\n",
       "      <td>drug</td>\n",
       "      <td>disease</td>\n",
       "      <td>off-label use</td>\n",
       "      <td>20454</td>\n",
       "      <td>38011</td>\n",
       "      <td>Mupirocin</td>\n",
       "      <td>epidermolysis bullosa</td>\n",
       "      <td>5</td>\n",
       "    </tr>\n",
       "    <tr>\n",
       "      <th>389290</th>\n",
       "      <td>314216603150.0</td>\n",
       "      <td>950677384996.0</td>\n",
       "      <td>drug</td>\n",
       "      <td>disease</td>\n",
       "      <td>off-label use</td>\n",
       "      <td>20454</td>\n",
       "      <td>27434</td>\n",
       "      <td>Mupirocin</td>\n",
       "      <td>epidermolysis bullosa simplex</td>\n",
       "      <td>5</td>\n",
       "    </tr>\n",
       "    <tr>\n",
       "      <th>389291</th>\n",
       "      <td>314216603150.0</td>\n",
       "      <td>159662652330.0</td>\n",
       "      <td>drug</td>\n",
       "      <td>disease</td>\n",
       "      <td>off-label use</td>\n",
       "      <td>20454</td>\n",
       "      <td>84323</td>\n",
       "      <td>Mupirocin</td>\n",
       "      <td>ecthyma</td>\n",
       "      <td>5</td>\n",
       "    </tr>\n",
       "    <tr>\n",
       "      <th>389292</th>\n",
       "      <td>940479349167.0</td>\n",
       "      <td>159662652330.0</td>\n",
       "      <td>drug</td>\n",
       "      <td>disease</td>\n",
       "      <td>off-label use</td>\n",
       "      <td>14936</td>\n",
       "      <td>84323</td>\n",
       "      <td>Erythromycin</td>\n",
       "      <td>ecthyma</td>\n",
       "      <td>5</td>\n",
       "    </tr>\n",
       "  </tbody>\n",
       "</table>\n",
       "<p>4050064 rows × 10 columns</p>\n",
       "</div>"
      ],
      "text/plain": [
       "                 source          target         source_type   target_type  \\\n",
       "6351194  427809572530.0   47962102762.0  biological_process  gene/protein   \n",
       "6351195  427809572530.0  811505526209.0  biological_process  gene/protein   \n",
       "6351196  427809572530.0   84419768413.0  biological_process  gene/protein   \n",
       "6351197  427809572530.0  571566665436.0  biological_process  gene/protein   \n",
       "6351198  427809572530.0  924927297102.0  biological_process  gene/protein   \n",
       "...                 ...             ...                 ...           ...   \n",
       "389266   643646437093.0  423516769392.0                drug       disease   \n",
       "389289   314216603150.0  467565167408.0                drug       disease   \n",
       "389290   314216603150.0  950677384996.0                drug       disease   \n",
       "389291   314216603150.0  159662652330.0                drug       disease   \n",
       "389292   940479349167.0  159662652330.0                drug       disease   \n",
       "\n",
       "                      label  source_id  target_id               source_name  \\\n",
       "6351194  bioprocess_protein     112487       7097  neutrophil degranulation   \n",
       "6351195  bioprocess_protein     112487       6931  neutrophil degranulation   \n",
       "6351196  bioprocess_protein     112487       1114  neutrophil degranulation   \n",
       "6351197  bioprocess_protein     112487       4852  neutrophil degranulation   \n",
       "6351198  bioprocess_protein     112487       6561  neutrophil degranulation   \n",
       "...                     ...        ...        ...                       ...   \n",
       "389266        off-label use      14286      84318                Rifampicin   \n",
       "389289        off-label use      20454      38011                 Mupirocin   \n",
       "389290        off-label use      20454      27434                 Mupirocin   \n",
       "389291        off-label use      20454      84323                 Mupirocin   \n",
       "389292        off-label use      14936      84323              Erythromycin   \n",
       "\n",
       "                           target_name  label_id  \n",
       "6351194                           A1BG        25  \n",
       "6351195                       SERPINA3        25  \n",
       "6351196                           AOC1        25  \n",
       "6351197                          ACAA1        25  \n",
       "6351198                           ACLY        25  \n",
       "...                                ...       ...  \n",
       "389266          paucibacillary leprosy         5  \n",
       "389289           epidermolysis bullosa         5  \n",
       "389290   epidermolysis bullosa simplex         5  \n",
       "389291                         ecthyma         5  \n",
       "389292                         ecthyma         5  \n",
       "\n",
       "[4050064 rows x 10 columns]"
      ]
     },
     "execution_count": 14,
     "metadata": {},
     "output_type": "execute_result"
    }
   ],
   "source": [
    "modified_edge_df"
   ]
  },
  {
   "cell_type": "code",
   "execution_count": 15,
   "id": "22582abe-496e-4822-98c8-9982c3bfc6c0",
   "metadata": {},
   "outputs": [],
   "source": [
    "# generate triples from the PrimeKG dataframe\n",
    "triples = modified_edge_df[[\"source_id\", \"label_id\", \"target_id\"]].values\n",
    "\n",
    "# sort triples according to head id\n",
    "sorted_triples = triples[triples[:, 0].argsort()]"
   ]
  },
  {
   "cell_type": "code",
   "execution_count": 16,
   "id": "9b7089ef",
   "metadata": {},
   "outputs": [
    {
     "data": {
      "text/plain": [
       "array(['bioprocess_protein', 'cellcomp_protein', 'molfunc_protein',\n",
       "       'drug_protein', 'phenotype_protein', 'disease_phenotype_negative',\n",
       "       'disease_phenotype_positive', 'disease_protein', 'drug_effect',\n",
       "       'exposure_protein', 'exposure_disease', 'exposure_bioprocess',\n",
       "       'exposure_molfunc', 'exposure_cellcomp', 'pathway_protein',\n",
       "       'anatomy_protein_present', 'anatomy_protein_absent',\n",
       "       'protein_protein', 'drug_drug', 'phenotype_phenotype',\n",
       "       'disease_disease', 'bioprocess_bioprocess', 'molfunc_molfunc',\n",
       "       'cellcomp_cellcomp', 'exposure_exposure', 'pathway_pathway',\n",
       "       'anatomy_anatomy', 'contraindication', 'indication',\n",
       "       'off-label use'], dtype=object)"
      ]
     },
     "execution_count": 16,
     "metadata": {},
     "output_type": "execute_result"
    }
   ],
   "source": [
    "modified_edge_df.label.unique()"
   ]
  },
  {
   "cell_type": "code",
   "execution_count": 35,
   "id": "2f3ca9b5",
   "metadata": {},
   "outputs": [
    {
     "data": {
      "text/html": [
       "<div>\n",
       "<style scoped>\n",
       "    .dataframe tbody tr th:only-of-type {\n",
       "        vertical-align: middle;\n",
       "    }\n",
       "\n",
       "    .dataframe tbody tr th {\n",
       "        vertical-align: top;\n",
       "    }\n",
       "\n",
       "    .dataframe thead th {\n",
       "        text-align: right;\n",
       "    }\n",
       "</style>\n",
       "<table border=\"1\" class=\"dataframe\">\n",
       "  <thead>\n",
       "    <tr style=\"text-align: right;\">\n",
       "      <th></th>\n",
       "      <th>ent_id</th>\n",
       "      <th>ent_type</th>\n",
       "    </tr>\n",
       "  </thead>\n",
       "  <tbody>\n",
       "    <tr>\n",
       "      <th>0</th>\n",
       "      <td>112487</td>\n",
       "      <td>biological_process</td>\n",
       "    </tr>\n",
       "    <tr>\n",
       "      <th>1</th>\n",
       "      <td>112487</td>\n",
       "      <td>biological_process</td>\n",
       "    </tr>\n",
       "    <tr>\n",
       "      <th>2</th>\n",
       "      <td>112487</td>\n",
       "      <td>biological_process</td>\n",
       "    </tr>\n",
       "    <tr>\n",
       "      <th>3</th>\n",
       "      <td>112487</td>\n",
       "      <td>biological_process</td>\n",
       "    </tr>\n",
       "    <tr>\n",
       "      <th>4</th>\n",
       "      <td>112487</td>\n",
       "      <td>biological_process</td>\n",
       "    </tr>\n",
       "    <tr>\n",
       "      <th>...</th>\n",
       "      <td>...</td>\n",
       "      <td>...</td>\n",
       "    </tr>\n",
       "    <tr>\n",
       "      <th>8100123</th>\n",
       "      <td>84318</td>\n",
       "      <td>disease</td>\n",
       "    </tr>\n",
       "    <tr>\n",
       "      <th>8100124</th>\n",
       "      <td>38011</td>\n",
       "      <td>disease</td>\n",
       "    </tr>\n",
       "    <tr>\n",
       "      <th>8100125</th>\n",
       "      <td>27434</td>\n",
       "      <td>disease</td>\n",
       "    </tr>\n",
       "    <tr>\n",
       "      <th>8100126</th>\n",
       "      <td>84323</td>\n",
       "      <td>disease</td>\n",
       "    </tr>\n",
       "    <tr>\n",
       "      <th>8100127</th>\n",
       "      <td>84323</td>\n",
       "      <td>disease</td>\n",
       "    </tr>\n",
       "  </tbody>\n",
       "</table>\n",
       "<p>8100128 rows × 2 columns</p>\n",
       "</div>"
      ],
      "text/plain": [
       "         ent_id            ent_type\n",
       "0        112487  biological_process\n",
       "1        112487  biological_process\n",
       "2        112487  biological_process\n",
       "3        112487  biological_process\n",
       "4        112487  biological_process\n",
       "...         ...                 ...\n",
       "8100123   84318             disease\n",
       "8100124   38011             disease\n",
       "8100125   27434             disease\n",
       "8100126   84323             disease\n",
       "8100127   84323             disease\n",
       "\n",
       "[8100128 rows x 2 columns]"
      ]
     },
     "execution_count": 35,
     "metadata": {},
     "output_type": "execute_result"
    }
   ],
   "source": [
    "part1 = modified_edge_df[[\"source_id\", \"source_type\"]]\n",
    "part2 = modified_edge_df[[\"target_id\", \"target_type\"]]\n",
    "new_cols = [\"ent_id\", \"ent_type\"]\n",
    "part1.columns = new_cols\n",
    "part2.columns = new_cols\n",
    "# Aggregated head and tail entities\n",
    "ent_all = pd.concat([part1, part2], ignore_index=True)\n",
    "ent_all"
   ]
  },
  {
   "cell_type": "code",
   "execution_count": 42,
   "id": "13683d5a",
   "metadata": {},
   "outputs": [
    {
     "data": {
      "text/plain": [
       "ent_id\n",
       "0         gene/protein\n",
       "1         gene/protein\n",
       "2         gene/protein\n",
       "3         gene/protein\n",
       "4         gene/protein\n",
       "              ...     \n",
       "129370         pathway\n",
       "129371         pathway\n",
       "129372         anatomy\n",
       "129373         anatomy\n",
       "129374         anatomy\n",
       "Name: ent_type, Length: 129375, dtype: object"
      ]
     },
     "execution_count": 42,
     "metadata": {},
     "output_type": "execute_result"
    }
   ],
   "source": [
    "uniq_ent = (ent_all.groupby(\"ent_id\")[[\"ent_id\", \"ent_type\"]].first())[\"ent_type\"]\n",
    "uniq_ent"
   ]
  },
  {
   "cell_type": "code",
   "execution_count": 46,
   "id": "80d93091",
   "metadata": {},
   "outputs": [],
   "source": [
    "ent_type, type_id = np.unique(uniq_ent, return_inverse=True)"
   ]
  },
  {
   "cell_type": "code",
   "execution_count": 47,
   "id": "8fd2a071",
   "metadata": {},
   "outputs": [
    {
     "data": {
      "text/plain": [
       "array(['anatomy', 'biological_process', 'cellular_component', 'disease',\n",
       "       'drug', 'effect/phenotype', 'exposure', 'gene/protein',\n",
       "       'molecular_function', 'pathway'], dtype=object)"
      ]
     },
     "execution_count": 47,
     "metadata": {},
     "output_type": "execute_result"
    }
   ],
   "source": [
    "ent_type"
   ]
  },
  {
   "cell_type": "code",
   "execution_count": 50,
   "id": "bddbbad4",
   "metadata": {},
   "outputs": [],
   "source": [
    "data_path = Path(\"../data/primekg\")\n",
    "with open(data_path.joinpath(\"type_ids.pkl\"), \"wb\") as f:\n",
    "    pickle.dump(uniq_ent.values, f)"
   ]
  },
  {
   "cell_type": "code",
   "execution_count": 67,
   "id": "780111bf-e9ec-4b04-81c6-dcbf50dacec5",
   "metadata": {
    "execution": {
     "iopub.execute_input": "2023-09-26T08:22:58.486820Z",
     "iopub.status.busy": "2023-09-26T08:22:58.486303Z",
     "iopub.status.idle": "2023-09-26T08:22:58.491658Z",
     "shell.execute_reply": "2023-09-26T08:22:58.491059Z",
     "shell.execute_reply.started": "2023-09-26T08:22:58.486799Z"
    }
   },
   "outputs": [],
   "source": [
    "# rel_dict, rel_id = np.unique(modified_edge_df[\"label\"].values, return_inverse=True)\n",
    "rel_dict = modified_edge_df.groupby(\"label_id\")[\"label\"].first().values\n",
    "with open(\"../data/primekg/relation_dict.pkl\", \"wb\") as f:\n",
    "    pickle.dump(rel_dict.tolist(), f)"
   ]
  },
  {
   "cell_type": "code",
   "execution_count": null,
   "id": "17e276c5-18ea-4d7c-8e2a-81f6319c341d",
   "metadata": {
    "execution": {
     "iopub.execute_input": "2023-09-26T08:23:07.015211Z",
     "iopub.status.busy": "2023-09-26T08:23:07.014191Z",
     "iopub.status.idle": "2023-09-26T08:23:07.021050Z",
     "shell.execute_reply": "2023-09-26T08:23:07.020385Z",
     "shell.execute_reply.started": "2023-09-26T08:23:07.015167Z"
    }
   },
   "outputs": [
    {
     "data": {
      "text/plain": [
       "['splenius (anatomy)',\n",
       " 'lamina I of gray matter of spinal cord (anatomy)',\n",
       " 'accessory nerve fiber bundle (anatomy)',\n",
       " 'vagal nerve fiber bundle (anatomy)',\n",
       " 'posterior column of fornix (anatomy)',\n",
       " 'lateral occipital cortex (anatomy)',\n",
       " 'corticomedial nuclear complex (anatomy)',\n",
       " 'basolateral amygdaloid nuclear complex (anatomy)',\n",
       " 'cochlear canal (anatomy)',\n",
       " 'Brodmann (1909) area 36 (anatomy)',\n",
       " 'Brodmann (1909) area 35 (anatomy)',\n",
       " 'Brodmann (1909) area 24 (anatomy)',\n",
       " 'Brodmann (1909) area 3 (anatomy)',\n",
       " 'Brodmann (1909) area 1 (anatomy)',\n",
       " 'basal nuclear complex (anatomy)',\n",
       " 'ventral external arcuate fiber bundle (anatomy)',\n",
       " 'posterior transverse temporal area 42 (anatomy)',\n",
       " 'anterior transverse temporal area 41 (anatomy)',\n",
       " 'superior parietal cortex (anatomy)',\n",
       " 'precuneus cortex (anatomy)']"
      ]
     },
     "execution_count": 18,
     "metadata": {},
     "output_type": "execute_result"
    }
   ],
   "source": [
    "uniq_ent = modified_node_df.groupby(\"id\")[[\"type\", \"name\"]].first().sort_values(\"type\")\n",
    "ent_dict = (uniq_ent[\"name\"] + \" (\" + uniq_ent[\"type\"] + \")\").values.tolist()\n",
    "ent_dict[:20]"
   ]
  }
 ],
 "metadata": {
  "kernelspec": {
   "display_name": "Python 3 (ipykernel)",
   "language": "python",
   "name": "python3"
  },
  "language_info": {
   "codemirror_mode": {
    "name": "ipython",
    "version": 3
   },
   "file_extension": ".py",
   "mimetype": "text/x-python",
   "name": "python",
   "nbconvert_exporter": "python",
   "pygments_lexer": "ipython3",
   "version": "3.8.10"
  }
 },
 "nbformat": 4,
 "nbformat_minor": 5
}
