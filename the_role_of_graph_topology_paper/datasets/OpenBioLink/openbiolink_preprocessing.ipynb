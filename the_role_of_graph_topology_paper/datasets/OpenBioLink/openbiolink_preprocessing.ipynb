{
 "cells": [
  {
   "cell_type": "markdown",
   "metadata": {},
   "source": [
    "Copyright (c) 2023 Graphcore Ltd. All rights reserved."
   ]
  },
  {
   "cell_type": "markdown",
   "metadata": {},
   "source": [
    "# OpenBioLink2020 HQ\n",
    "\n",
    "## Triple pre-processing\n",
    "\n",
    "Install dependencies"
   ]
  },
  {
   "cell_type": "code",
   "execution_count": 1,
   "metadata": {},
   "outputs": [],
   "source": [
    "!pip install -q wheel\n",
    "!pip install -q git+https://github.com/graphcore-research/bess-kge.git"
   ]
  },
  {
   "cell_type": "code",
   "execution_count": 2,
   "metadata": {},
   "outputs": [],
   "source": [
    "import pickle\n",
    "import zipfile\n",
    "import requests\n",
    "from io import BytesIO\n",
    "from pathlib import Path\n",
    "\n",
    "import numpy as np\n",
    "import pandas as pd\n",
    "import torch\n",
    "from besskge.dataset import KGDataset"
   ]
  },
  {
   "cell_type": "markdown",
   "metadata": {},
   "source": [
    "Download dataset from source"
   ]
  },
  {
   "cell_type": "code",
   "execution_count": 3,
   "metadata": {},
   "outputs": [],
   "source": [
    "data_path = Path(\"../data/openbiolink/\")\n",
    "data_path.mkdir(parents=True, exist_ok=True)\n",
    "filename = data_path.joinpath(\"drkg.tar.gz\")\n",
    "\n",
    "res = requests.get(url=\"https://zenodo.org/record/3834052/files/HQ_DIR.zip\")\n",
    "with zipfile.ZipFile(BytesIO(res.content)) as zip_f:\n",
    "    zip_f.extractall(path=data_path)"
   ]
  },
  {
   "cell_type": "code",
   "execution_count": 8,
   "metadata": {},
   "outputs": [],
   "source": [
    "column_names = [\"h_label\", \"r_label\", \"t_label\", \"quality\", \"TP/TN\", \"source\"]\n",
    "train_triples = pd.read_csv(\n",
    "    data_path.joinpath(\"HQ_DIR/train_test_data/train_sample.csv\"),\n",
    "    header=None,\n",
    "    names=column_names,\n",
    "    sep=\"\\t\",\n",
    ")\n",
    "valid_triples = pd.read_csv(\n",
    "    data_path.joinpath(\"HQ_DIR/train_test_data/val_sample.csv\"),\n",
    "    header=None,\n",
    "    names=column_names,\n",
    "    sep=\"\\t\",\n",
    ")\n",
    "test_triples = pd.read_csv(\n",
    "    data_path.joinpath(\"HQ_DIR/train_test_data/test_sample.csv\"),\n",
    "    header=None,\n",
    "    names=column_names,\n",
    "    sep=\"\\t\",\n",
    ")"
   ]
  },
  {
   "cell_type": "code",
   "execution_count": 4,
   "metadata": {},
   "outputs": [
    {
     "data": {
      "text/html": [
       "<div>\n",
       "<style scoped>\n",
       "    .dataframe tbody tr th:only-of-type {\n",
       "        vertical-align: middle;\n",
       "    }\n",
       "\n",
       "    .dataframe tbody tr th {\n",
       "        vertical-align: top;\n",
       "    }\n",
       "\n",
       "    .dataframe thead th {\n",
       "        text-align: right;\n",
       "    }\n",
       "</style>\n",
       "<table border=\"1\" class=\"dataframe\">\n",
       "  <thead>\n",
       "    <tr style=\"text-align: right;\">\n",
       "      <th></th>\n",
       "      <th>h_label</th>\n",
       "      <th>r_label</th>\n",
       "      <th>t_label</th>\n",
       "      <th>quality</th>\n",
       "      <th>TP/TN</th>\n",
       "      <th>source</th>\n",
       "    </tr>\n",
       "  </thead>\n",
       "  <tbody>\n",
       "    <tr>\n",
       "      <th>0</th>\n",
       "      <td>NCBIGENE:11200</td>\n",
       "      <td>GENE_PHENOTYPE</td>\n",
       "      <td>HP:0009919</td>\n",
       "      <td>NaN</td>\n",
       "      <td>1</td>\n",
       "      <td>HPO</td>\n",
       "    </tr>\n",
       "    <tr>\n",
       "      <th>1</th>\n",
       "      <td>NCBIGENE:2649</td>\n",
       "      <td>GENE_EXPRESSED_ANATOMY</td>\n",
       "      <td>UBERON:0000059</td>\n",
       "      <td>gold quality</td>\n",
       "      <td>1</td>\n",
       "      <td>Bgee</td>\n",
       "    </tr>\n",
       "    <tr>\n",
       "      <th>2</th>\n",
       "      <td>NCBIGENE:534</td>\n",
       "      <td>GENE_EXPRESSED_ANATOMY</td>\n",
       "      <td>UBERON:0000467</td>\n",
       "      <td>gold quality</td>\n",
       "      <td>1</td>\n",
       "      <td>Bgee</td>\n",
       "    </tr>\n",
       "    <tr>\n",
       "      <th>3</th>\n",
       "      <td>NCBIGENE:2036</td>\n",
       "      <td>GENE_BINDING_GENE</td>\n",
       "      <td>NCBIGENE:5295</td>\n",
       "      <td>900</td>\n",
       "      <td>1</td>\n",
       "      <td>STRING</td>\n",
       "    </tr>\n",
       "    <tr>\n",
       "      <th>4</th>\n",
       "      <td>NCBIGENE:51195</td>\n",
       "      <td>GENE_UNDEREXPRESSED_ANATOMY</td>\n",
       "      <td>CL:0000738</td>\n",
       "      <td>high quality</td>\n",
       "      <td>1</td>\n",
       "      <td>Bgee</td>\n",
       "    </tr>\n",
       "    <tr>\n",
       "      <th>...</th>\n",
       "      <td>...</td>\n",
       "      <td>...</td>\n",
       "      <td>...</td>\n",
       "      <td>...</td>\n",
       "      <td>...</td>\n",
       "      <td>...</td>\n",
       "    </tr>\n",
       "    <tr>\n",
       "      <th>4191997</th>\n",
       "      <td>NCBIGENE:6701</td>\n",
       "      <td>GENE_PATHWAY</td>\n",
       "      <td>REACTOME:R-HSA-6809371</td>\n",
       "      <td>NaN</td>\n",
       "      <td>1</td>\n",
       "      <td>CDT</td>\n",
       "    </tr>\n",
       "    <tr>\n",
       "      <th>4191998</th>\n",
       "      <td>NCBIGENE:3118</td>\n",
       "      <td>GENE_CATALYSIS_GENE</td>\n",
       "      <td>NCBIGENE:3119</td>\n",
       "      <td>926</td>\n",
       "      <td>1</td>\n",
       "      <td>STRING</td>\n",
       "    </tr>\n",
       "    <tr>\n",
       "      <th>4191999</th>\n",
       "      <td>NCBIGENE:1269</td>\n",
       "      <td>GENE_REACTION_GENE</td>\n",
       "      <td>NCBIGENE:6376</td>\n",
       "      <td>900</td>\n",
       "      <td>1</td>\n",
       "      <td>STRING</td>\n",
       "    </tr>\n",
       "    <tr>\n",
       "      <th>4192000</th>\n",
       "      <td>NCBIGENE:1785</td>\n",
       "      <td>GENE_EXPRESSED_ANATOMY</td>\n",
       "      <td>UBERON:0003729</td>\n",
       "      <td>gold quality</td>\n",
       "      <td>1</td>\n",
       "      <td>Bgee</td>\n",
       "    </tr>\n",
       "    <tr>\n",
       "      <th>4192001</th>\n",
       "      <td>NCBIGENE:55591</td>\n",
       "      <td>GENE_EXPRESSED_ANATOMY</td>\n",
       "      <td>UBERON:0002038</td>\n",
       "      <td>gold quality</td>\n",
       "      <td>1</td>\n",
       "      <td>Bgee</td>\n",
       "    </tr>\n",
       "  </tbody>\n",
       "</table>\n",
       "<p>4192002 rows × 6 columns</p>\n",
       "</div>"
      ],
      "text/plain": [
       "                h_label                      r_label                 t_label  \\\n",
       "0        NCBIGENE:11200               GENE_PHENOTYPE              HP:0009919   \n",
       "1         NCBIGENE:2649       GENE_EXPRESSED_ANATOMY          UBERON:0000059   \n",
       "2          NCBIGENE:534       GENE_EXPRESSED_ANATOMY          UBERON:0000467   \n",
       "3         NCBIGENE:2036            GENE_BINDING_GENE           NCBIGENE:5295   \n",
       "4        NCBIGENE:51195  GENE_UNDEREXPRESSED_ANATOMY              CL:0000738   \n",
       "...                 ...                          ...                     ...   \n",
       "4191997   NCBIGENE:6701                 GENE_PATHWAY  REACTOME:R-HSA-6809371   \n",
       "4191998   NCBIGENE:3118          GENE_CATALYSIS_GENE           NCBIGENE:3119   \n",
       "4191999   NCBIGENE:1269           GENE_REACTION_GENE           NCBIGENE:6376   \n",
       "4192000   NCBIGENE:1785       GENE_EXPRESSED_ANATOMY          UBERON:0003729   \n",
       "4192001  NCBIGENE:55591       GENE_EXPRESSED_ANATOMY          UBERON:0002038   \n",
       "\n",
       "              quality  TP/TN  source  \n",
       "0                 NaN      1     HPO  \n",
       "1        gold quality      1    Bgee  \n",
       "2        gold quality      1    Bgee  \n",
       "3                 900      1  STRING  \n",
       "4        high quality      1    Bgee  \n",
       "...               ...    ...     ...  \n",
       "4191997           NaN      1     CDT  \n",
       "4191998           926      1  STRING  \n",
       "4191999           900      1  STRING  \n",
       "4192000  gold quality      1    Bgee  \n",
       "4192001  gold quality      1    Bgee  \n",
       "\n",
       "[4192002 rows x 6 columns]"
      ]
     },
     "execution_count": 4,
     "metadata": {},
     "output_type": "execute_result"
    }
   ],
   "source": [
    "df_triples = {\"train\": train_triples, \"valid\": valid_triples, \"test\": test_triples}\n",
    "df_triples[\"train\"]"
   ]
  },
  {
   "cell_type": "code",
   "execution_count": 5,
   "metadata": {},
   "outputs": [
    {
     "data": {
      "text/plain": [
       "array(['GENE_PHENOTYPE', 'GENE_EXPRESSED_ANATOMY', 'GENE_BINDING_GENE',\n",
       "       'GENE_UNDEREXPRESSED_ANATOMY', 'GENE_GENE', 'GENE_REACTION_GENE',\n",
       "       'DRUG_REACTION_GENE', 'GENE_GO', 'GENE_PATHWAY',\n",
       "       'GENE_OVEREXPRESSED_ANATOMY', 'GENE_DRUG', 'DRUG_CATALYSIS_GENE',\n",
       "       'DRUG_BINDING_GENE', 'PART_OF', 'GENE_INHIBITION_GENE',\n",
       "       'DRUG_INHIBITION_GENE', 'DRUG_PHENOTYPE', 'IS_A',\n",
       "       'GENE_CATALYSIS_GENE', 'GENE_ACTIVATION_GENE', 'DIS_DRUG',\n",
       "       'DRUG_ACTIVATION_GENE', 'DIS_PHENOTYPE', 'GENE_PTMOD_GENE',\n",
       "       'DRUG_BINDINH_GENE', 'GENE_DIS', 'DRUG_BINDACT_GENE',\n",
       "       'GENE_EXPRESSION_GENE'], dtype=object)"
      ]
     },
     "execution_count": 5,
     "metadata": {},
     "output_type": "execute_result"
    }
   ],
   "source": [
    "df_triples[\"train\"][\"r_label\"].unique()"
   ]
  },
  {
   "cell_type": "markdown",
   "metadata": {},
   "source": [
    "We can just use `besskge.dataset.KGDataset.from_dataframe` to preprocess and build the KGDataset."
   ]
  },
  {
   "cell_type": "code",
   "execution_count": 6,
   "metadata": {},
   "outputs": [
    {
     "name": "stdout",
     "output_type": "stream",
     "text": [
      "Number of entities: 184,635\n",
      "\n",
      "Number of relation types: 28\n",
      "\n"
     ]
    }
   ],
   "source": [
    "openbiolink = KGDataset.from_dataframe(\n",
    "    df_triples,\n",
    "    head_column=\"h_label\",\n",
    "    relation_column=\"r_label\",\n",
    "    tail_column=\"t_label\",\n",
    ")\n",
    "\n",
    "print(f\"Number of entities: {openbiolink.n_entity:,}\\n\")\n",
    "print(f\"Number of relation types: {openbiolink.n_relation_type}\\n\")"
   ]
  },
  {
   "cell_type": "markdown",
   "metadata": {},
   "source": [
    "## Save\n",
    "\n",
    "Save triples and dictionaries."
   ]
  },
  {
   "cell_type": "code",
   "execution_count": 7,
   "metadata": {},
   "outputs": [
    {
     "data": {
      "text/plain": [
       "(4563405, 3)"
      ]
     },
     "execution_count": 7,
     "metadata": {},
     "output_type": "execute_result"
    }
   ],
   "source": [
    "# Recover and concatenate all triples\n",
    "\n",
    "all_triples = np.concatenate([trip for trip in openbiolink.triples.values()], axis=0)\n",
    "all_triples.shape"
   ]
  },
  {
   "cell_type": "code",
   "execution_count": 16,
   "metadata": {},
   "outputs": [
    {
     "data": {
      "text/plain": [
       "('NCBIGENE:83743', 'GENE_GENE', 'NCBIGENE:6059')"
      ]
     },
     "execution_count": 16,
     "metadata": {},
     "output_type": "execute_result"
    }
   ],
   "source": [
    "ent_dict = openbiolink.entity_dict\n",
    "rel_dict = openbiolink.relation_dict\n",
    "type_offset = openbiolink.type_offsets\n",
    "\n",
    "# Sanity check\n",
    "\n",
    "triple_id = 14500\n",
    "\n",
    "ent_dict[all_triples[triple_id, 0]], rel_dict[all_triples[triple_id, 1]], ent_dict[\n",
    "    all_triples[triple_id, 2]\n",
    "]"
   ]
  },
  {
   "cell_type": "code",
   "execution_count": 20,
   "metadata": {},
   "outputs": [
    {
     "data": {
      "text/html": [
       "<div>\n",
       "<style scoped>\n",
       "    .dataframe tbody tr th:only-of-type {\n",
       "        vertical-align: middle;\n",
       "    }\n",
       "\n",
       "    .dataframe tbody tr th {\n",
       "        vertical-align: top;\n",
       "    }\n",
       "\n",
       "    .dataframe thead th {\n",
       "        text-align: right;\n",
       "    }\n",
       "</style>\n",
       "<table border=\"1\" class=\"dataframe\">\n",
       "  <thead>\n",
       "    <tr style=\"text-align: right;\">\n",
       "      <th></th>\n",
       "      <th>h_label</th>\n",
       "      <th>r_label</th>\n",
       "      <th>t_label</th>\n",
       "      <th>quality</th>\n",
       "      <th>TP/TN</th>\n",
       "      <th>source</th>\n",
       "    </tr>\n",
       "  </thead>\n",
       "  <tbody>\n",
       "    <tr>\n",
       "      <th>14500</th>\n",
       "      <td>NCBIGENE:83743</td>\n",
       "      <td>GENE_GENE</td>\n",
       "      <td>NCBIGENE:6059</td>\n",
       "      <td>702</td>\n",
       "      <td>1</td>\n",
       "      <td>STRING</td>\n",
       "    </tr>\n",
       "  </tbody>\n",
       "</table>\n",
       "</div>"
      ],
      "text/plain": [
       "              h_label    r_label        t_label quality  TP/TN  source\n",
       "14500  NCBIGENE:83743  GENE_GENE  NCBIGENE:6059     702      1  STRING"
      ]
     },
     "execution_count": 20,
     "metadata": {},
     "output_type": "execute_result"
    }
   ],
   "source": [
    "part = df_triples[\"train\"][\n",
    "    df_triples[\"train\"][\"h_label\"] == ent_dict[all_triples[triple_id, 0]]\n",
    "]\n",
    "part[part[\"t_label\"] == ent_dict[all_triples[triple_id, 2]]]"
   ]
  },
  {
   "cell_type": "code",
   "execution_count": 21,
   "metadata": {},
   "outputs": [],
   "source": [
    "torch.save(all_triples, data_path.joinpath(\"triples.pt\"))\n",
    "with open(data_path.joinpath(\"entity_dict.pkl\"), \"wb\") as f:\n",
    "    pickle.dump(ent_dict, f)\n",
    "with open(data_path.joinpath(\"relation_dict.pkl\"), \"wb\") as f:\n",
    "    pickle.dump(rel_dict, f)\n",
    "with open(data_path.joinpath(\"type_offset.pkl\"), \"wb\") as f:\n",
    "    pickle.dump(type_offset, f)"
   ]
  }
 ],
 "metadata": {
  "kernelspec": {
   "display_name": "Python 3 (ipykernel)",
   "language": "python",
   "name": "python3"
  },
  "language_info": {
   "codemirror_mode": {
    "name": "ipython",
    "version": 3
   },
   "file_extension": ".py",
   "mimetype": "text/x-python",
   "name": "python",
   "nbconvert_exporter": "python",
   "pygments_lexer": "ipython3",
   "version": "3.8.10"
  },
  "pycharm": {
   "stem_cell": {
    "cell_type": "raw",
    "metadata": {
     "collapsed": false
    },
    "source": []
   }
  }
 },
 "nbformat": 4,
 "nbformat_minor": 4
}
